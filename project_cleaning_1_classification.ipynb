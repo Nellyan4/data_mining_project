{
 "cells": [
  {
   "cell_type": "markdown",
   "metadata": {},
   "source": [
    "## (Project name)\n",
    "\n",
    "### Group member: Elaine Zhang, Xintong Zheng, Xi Yan\n",
    "\n",
    "Description:"
   ]
  },
  {
   "cell_type": "code",
   "execution_count": 98,
   "metadata": {
    "pycharm": {
     "name": "#%%\n"
    }
   },
   "outputs": [],
   "source": [
    "# Import packages\n",
    "import numpy as np\n",
    "import pandas as pd\n",
    "import seaborn as sns\n",
    "from matplotlib import pyplot as plt\n",
    "import plotly.express as px\n",
    "%matplotlib inline\n",
    "plt.style.use('seaborn-white')"
   ]
  },
  {
   "cell_type": "code",
   "execution_count": 99,
   "metadata": {
    "pycharm": {
     "name": "#%%\n"
    }
   },
   "outputs": [],
   "source": [
    "# Import ML packages\n",
    "from sklearn.metrics import mean_squared_error\n",
    "from sklearn.linear_model import LinearRegression\n",
    "from sklearn.preprocessing import PolynomialFeatures\n",
    "from sklearn.model_selection import train_test_split, LeaveOneOut, KFold, cross_val_score\n",
    "from sklearn.linear_model import Ridge, RidgeCV, Lasso, LassoCV\n",
    "#from sklearn.feature_selection import SequentialFeatureSelector\n",
    "from sklearn.neighbors import KNeighborsClassifier\n",
    "from sklearn import metrics\n",
    "from sklearn.metrics import confusion_matrix, ConfusionMatrixDisplay, classification_report\n",
    "from sklearn import preprocessing\n",
    "from sklearn import neighbors\n",
    "from sklearn.metrics import r2_score\n",
    "from sklearn.cluster import KMeans\n",
    "from yellowbrick.cluster import KElbowVisualizer\n",
    "from sklearn.cluster import KMeans\n",
    "from sklearn.preprocessing import StandardScaler\n",
    "from yellowbrick.cluster import InterclusterDistance\n",
    "from yellowbrick.cluster import SilhouetteVisualizer\n",
    "from yellowbrick.datasets import load_nfl\n",
    "from yellowbrick.datasets import load_credit\n",
    "from yellowbrick.datasets import load_hobbies\n",
    "from sklearn.datasets import make_blobs"
   ]
  },
  {
   "cell_type": "markdown",
   "metadata": {},
   "source": [
    "### Question 1\n",
    "1) Reading and Cleaning your dataset/s\n",
    "\n",
    "a) Explore if your dataset/s has NAs and deal with them (or provide an explanation for keeping them and how you will deal with them moving forward)\n",
    "\n",
    "b) If you are doing a classifier take note of how many data points per class you have.\n",
    "\n",
    "c) Any other necessary conversation such as dealing with categorical variables, verifying each variable is the right type.\n",
    "\n",
    "d) If you have more than one dataset make sure to clean all of your datasets!"
   ]
  },
  {
   "cell_type": "markdown",
   "metadata": {},
   "source": [
    "### Read and clean weather data\n",
    "The weather data is retrieved from [National Centers for Environmental Information](https://www.ncdc.noaa.gov/cdo-web/search), ranged from Jan.1 2017 to Dec.31 2019, of a weather station located at Pittsburgh, PA, USA."
   ]
  },
  {
   "cell_type": "code",
   "execution_count": 100,
   "metadata": {
    "pycharm": {
     "name": "#%%\n"
    }
   },
   "outputs": [
    {
     "name": "stdout",
     "output_type": "stream",
     "text": [
      "<class 'pandas.core.frame.DataFrame'>\n",
      "RangeIndex: 1095 entries, 0 to 1094\n",
      "Data columns (total 6 columns):\n",
      " #   Column  Non-Null Count  Dtype  \n",
      "---  ------  --------------  -----  \n",
      " 0   DATE    1095 non-null   object \n",
      " 1   AWND    1092 non-null   float64\n",
      " 2   PRCP    1094 non-null   float64\n",
      " 3   TMAX    1093 non-null   float64\n",
      " 4   TMIN    1093 non-null   float64\n",
      " 5   TAVG    1093 non-null   float64\n",
      "dtypes: float64(5), object(1)\n",
      "memory usage: 51.5+ KB\n"
     ]
    },
    {
     "data": {
      "text/html": [
       "<div>\n",
       "<style scoped>\n",
       "    .dataframe tbody tr th:only-of-type {\n",
       "        vertical-align: middle;\n",
       "    }\n",
       "\n",
       "    .dataframe tbody tr th {\n",
       "        vertical-align: top;\n",
       "    }\n",
       "\n",
       "    .dataframe thead th {\n",
       "        text-align: right;\n",
       "    }\n",
       "</style>\n",
       "<table border=\"1\" class=\"dataframe\">\n",
       "  <thead>\n",
       "    <tr style=\"text-align: right;\">\n",
       "      <th></th>\n",
       "      <th>DATE</th>\n",
       "      <th>AWND</th>\n",
       "      <th>PRCP</th>\n",
       "      <th>TMAX</th>\n",
       "      <th>TMIN</th>\n",
       "      <th>TAVG</th>\n",
       "    </tr>\n",
       "  </thead>\n",
       "  <tbody>\n",
       "    <tr>\n",
       "      <th>0</th>\n",
       "      <td>2017-01-01</td>\n",
       "      <td>5.82</td>\n",
       "      <td>0.03</td>\n",
       "      <td>44.0</td>\n",
       "      <td>32.0</td>\n",
       "      <td>38.0</td>\n",
       "    </tr>\n",
       "    <tr>\n",
       "      <th>1</th>\n",
       "      <td>2017-01-02</td>\n",
       "      <td>7.16</td>\n",
       "      <td>0.09</td>\n",
       "      <td>46.0</td>\n",
       "      <td>36.0</td>\n",
       "      <td>41.0</td>\n",
       "    </tr>\n",
       "    <tr>\n",
       "      <th>2</th>\n",
       "      <td>2017-01-03</td>\n",
       "      <td>6.93</td>\n",
       "      <td>0.76</td>\n",
       "      <td>50.0</td>\n",
       "      <td>42.0</td>\n",
       "      <td>46.0</td>\n",
       "    </tr>\n",
       "    <tr>\n",
       "      <th>3</th>\n",
       "      <td>2017-01-04</td>\n",
       "      <td>15.66</td>\n",
       "      <td>0.04</td>\n",
       "      <td>45.0</td>\n",
       "      <td>21.0</td>\n",
       "      <td>33.0</td>\n",
       "    </tr>\n",
       "    <tr>\n",
       "      <th>4</th>\n",
       "      <td>2017-01-05</td>\n",
       "      <td>8.72</td>\n",
       "      <td>0.06</td>\n",
       "      <td>23.0</td>\n",
       "      <td>18.0</td>\n",
       "      <td>20.5</td>\n",
       "    </tr>\n",
       "  </tbody>\n",
       "</table>\n",
       "</div>"
      ],
      "text/plain": [
       "         DATE   AWND  PRCP  TMAX  TMIN  TAVG\n",
       "0  2017-01-01   5.82  0.03  44.0  32.0  38.0\n",
       "1  2017-01-02   7.16  0.09  46.0  36.0  41.0\n",
       "2  2017-01-03   6.93  0.76  50.0  42.0  46.0\n",
       "3  2017-01-04  15.66  0.04  45.0  21.0  33.0\n",
       "4  2017-01-05   8.72  0.06  23.0  18.0  20.5"
      ]
     },
     "execution_count": 100,
     "metadata": {},
     "output_type": "execute_result"
    }
   ],
   "source": [
    "# Read weather csv file\n",
    "weather = pd.read_csv(\"pit_weather.csv\")\n",
    "# Select only 5 columns from the initial dataset\n",
    "weather = weather[['DATE', 'AWND', 'PRCP', 'TMAX', 'TMIN']]\n",
    "# Calculate the average temperature of the day\n",
    "weather['TAVG'] = weather[['TMAX', 'TMIN']].mean(axis=1)\n",
    "# Show if there are any missing values\n",
    "weather.info()\n",
    "# However, we will not drop the NaN values now for the convenience of merging dataset\n",
    "weather.isnull().sum(axis=0)\n",
    "# Print the first 5 rows of the dataset\n",
    "weather.head(5)"
   ]
  },
  {
   "cell_type": "markdown",
   "metadata": {},
   "source": [
    "### Read and clean ride rentals data\n",
    "The ride rental data is retrieved from [Western Pennsylvania Regional Data Center](https://data.wprdc.org/dataset/healthyride-trip-data), since we are using 2017-2019 data, and the data is a .csv file quarterly. We have to combine 12 .csv data first in order to finish the cleaning."
   ]
  },
  {
   "cell_type": "code",
   "execution_count": 101,
   "metadata": {
    "pycharm": {
     "name": "#%%\n"
    }
   },
   "outputs": [
    {
     "name": "stderr",
     "output_type": "stream",
     "text": [
      "C:\\Users\\Elaine\\anaconda3\\lib\\site-packages\\IPython\\core\\interactiveshell.py:3165: DtypeWarning: Columns (1,2,6,8,9) have mixed types.Specify dtype option on import or set low_memory=False.\n",
      "  has_raised = await self.run_ast_nodes(code_ast.body, cell_name,\n"
     ]
    },
    {
     "data": {
      "text/html": [
       "<div>\n",
       "<style scoped>\n",
       "    .dataframe tbody tr th:only-of-type {\n",
       "        vertical-align: middle;\n",
       "    }\n",
       "\n",
       "    .dataframe tbody tr th {\n",
       "        vertical-align: top;\n",
       "    }\n",
       "\n",
       "    .dataframe thead th {\n",
       "        text-align: right;\n",
       "    }\n",
       "</style>\n",
       "<table border=\"1\" class=\"dataframe\">\n",
       "  <thead>\n",
       "    <tr style=\"text-align: right;\">\n",
       "      <th></th>\n",
       "      <th>Trip id</th>\n",
       "      <th>Starttime</th>\n",
       "      <th>Stoptime</th>\n",
       "      <th>Bikeid</th>\n",
       "      <th>Tripduration</th>\n",
       "      <th>From station id</th>\n",
       "      <th>From station name</th>\n",
       "      <th>To station id</th>\n",
       "      <th>To station name</th>\n",
       "      <th>Usertype</th>\n",
       "      <th>DATE</th>\n",
       "    </tr>\n",
       "  </thead>\n",
       "  <tbody>\n",
       "    <tr>\n",
       "      <th>0</th>\n",
       "      <td>63861634.0</td>\n",
       "      <td>14</td>\n",
       "      <td>30</td>\n",
       "      <td>70537.0</td>\n",
       "      <td>958.0</td>\n",
       "      <td>49731.0</td>\n",
       "      <td>Ross St &amp; Fourth Ave</td>\n",
       "      <td>1047.0</td>\n",
       "      <td>S 22nd St &amp; E Carson St</td>\n",
       "      <td>Subscriber</td>\n",
       "      <td>2019-01-01</td>\n",
       "    </tr>\n",
       "    <tr>\n",
       "      <th>1</th>\n",
       "      <td>63861699.0</td>\n",
       "      <td>33</td>\n",
       "      <td>44</td>\n",
       "      <td>70248.0</td>\n",
       "      <td>668.0</td>\n",
       "      <td>1010.0</td>\n",
       "      <td>10th St &amp; Penn Ave (David L. Lawrence Conventi...</td>\n",
       "      <td>1060.0</td>\n",
       "      <td>Penn Ave &amp; 29th St</td>\n",
       "      <td>Subscriber</td>\n",
       "      <td>2019-01-01</td>\n",
       "    </tr>\n",
       "    <tr>\n",
       "      <th>2</th>\n",
       "      <td>63861717.0</td>\n",
       "      <td>36</td>\n",
       "      <td>72</td>\n",
       "      <td>70249.0</td>\n",
       "      <td>2160.0</td>\n",
       "      <td>1033.0</td>\n",
       "      <td>Ivy St &amp; Walnut St</td>\n",
       "      <td>1069.0</td>\n",
       "      <td>Beacon St &amp; Murray Ave</td>\n",
       "      <td>Subscriber</td>\n",
       "      <td>2019-01-01</td>\n",
       "    </tr>\n",
       "    <tr>\n",
       "      <th>3</th>\n",
       "      <td>63861781.0</td>\n",
       "      <td>57</td>\n",
       "      <td>75</td>\n",
       "      <td>70084.0</td>\n",
       "      <td>1049.0</td>\n",
       "      <td>49601.0</td>\n",
       "      <td>Smallman St &amp; 31st St</td>\n",
       "      <td>1022.0</td>\n",
       "      <td>Liberty Ave &amp; S Millvale Ave (West Penn Hospital)</td>\n",
       "      <td>Subscriber</td>\n",
       "      <td>2019-01-01</td>\n",
       "    </tr>\n",
       "    <tr>\n",
       "      <th>4</th>\n",
       "      <td>63861808.0</td>\n",
       "      <td>69</td>\n",
       "      <td>90</td>\n",
       "      <td>70038.0</td>\n",
       "      <td>1278.0</td>\n",
       "      <td>1045.0</td>\n",
       "      <td>S 27th St &amp; Sidney St. (Southside Works)</td>\n",
       "      <td>1045.0</td>\n",
       "      <td>S 27th St &amp; Sidney St. (Southside Works)</td>\n",
       "      <td>Customer</td>\n",
       "      <td>2019-01-01</td>\n",
       "    </tr>\n",
       "    <tr>\n",
       "      <th>...</th>\n",
       "      <td>...</td>\n",
       "      <td>...</td>\n",
       "      <td>...</td>\n",
       "      <td>...</td>\n",
       "      <td>...</td>\n",
       "      <td>...</td>\n",
       "      <td>...</td>\n",
       "      <td>...</td>\n",
       "      <td>...</td>\n",
       "      <td>...</td>\n",
       "      <td>...</td>\n",
       "    </tr>\n",
       "    <tr>\n",
       "      <th>19850</th>\n",
       "      <td>89029487.0</td>\n",
       "      <td>1003</td>\n",
       "      <td>1009</td>\n",
       "      <td>70340.0</td>\n",
       "      <td>347.0</td>\n",
       "      <td>1023.0</td>\n",
       "      <td>Liberty Ave &amp; Baum Blvd</td>\n",
       "      <td>1043.0</td>\n",
       "      <td>S Millvale Ave &amp; Centre Ave</td>\n",
       "      <td>Subscriber</td>\n",
       "      <td>2019-11-02</td>\n",
       "    </tr>\n",
       "    <tr>\n",
       "      <th>19851</th>\n",
       "      <td>89029593.0</td>\n",
       "      <td>1007</td>\n",
       "      <td>1011</td>\n",
       "      <td>70277.0</td>\n",
       "      <td>242.0</td>\n",
       "      <td>1018.0</td>\n",
       "      <td>Butler St &amp; Stanton Ave</td>\n",
       "      <td>1019.0</td>\n",
       "      <td>42nd St &amp; Butler St</td>\n",
       "      <td>Subscriber</td>\n",
       "      <td>2019-11-02</td>\n",
       "    </tr>\n",
       "    <tr>\n",
       "      <th>19852</th>\n",
       "      <td>89029810.0</td>\n",
       "      <td>1016</td>\n",
       "      <td>1048</td>\n",
       "      <td>70153.0</td>\n",
       "      <td>1952.0</td>\n",
       "      <td>1093.0</td>\n",
       "      <td>S Bouquet Ave &amp; Sennott St</td>\n",
       "      <td>1036.0</td>\n",
       "      <td>Schenley Dr at Schenley Plaza (Carnegie Librar...</td>\n",
       "      <td>Customer</td>\n",
       "      <td>2019-11-02</td>\n",
       "    </tr>\n",
       "    <tr>\n",
       "      <th>19853</th>\n",
       "      <td>89031027.0</td>\n",
       "      <td>1061</td>\n",
       "      <td>1069</td>\n",
       "      <td>70536.0</td>\n",
       "      <td>479.0</td>\n",
       "      <td>1063.0</td>\n",
       "      <td>Penn Ave &amp; N Atlantic Ave</td>\n",
       "      <td>49401.0</td>\n",
       "      <td>Stanton Ave &amp; N Negley Ave</td>\n",
       "      <td>Subscriber</td>\n",
       "      <td>2019-11-02</td>\n",
       "    </tr>\n",
       "    <tr>\n",
       "      <th>19854</th>\n",
       "      <td>89031055.0</td>\n",
       "      <td>1062</td>\n",
       "      <td>1068</td>\n",
       "      <td>70444.0</td>\n",
       "      <td>366.0</td>\n",
       "      <td>1099.0</td>\n",
       "      <td>Forbes Ave &amp; S Craig St</td>\n",
       "      <td>49301.0</td>\n",
       "      <td>Centre Ave &amp; N Craig St</td>\n",
       "      <td>Subscriber</td>\n",
       "      <td>2019-11-02</td>\n",
       "    </tr>\n",
       "  </tbody>\n",
       "</table>\n",
       "<p>89511 rows × 11 columns</p>\n",
       "</div>"
      ],
      "text/plain": [
       "          Trip id  Starttime  Stoptime   Bikeid  Tripduration  \\\n",
       "0      63861634.0         14        30  70537.0         958.0   \n",
       "1      63861699.0         33        44  70248.0         668.0   \n",
       "2      63861717.0         36        72  70249.0        2160.0   \n",
       "3      63861781.0         57        75  70084.0        1049.0   \n",
       "4      63861808.0         69        90  70038.0        1278.0   \n",
       "...           ...        ...       ...      ...           ...   \n",
       "19850  89029487.0       1003      1009  70340.0         347.0   \n",
       "19851  89029593.0       1007      1011  70277.0         242.0   \n",
       "19852  89029810.0       1016      1048  70153.0        1952.0   \n",
       "19853  89031027.0       1061      1069  70536.0         479.0   \n",
       "19854  89031055.0       1062      1068  70444.0         366.0   \n",
       "\n",
       "       From station id                                  From station name  \\\n",
       "0              49731.0                               Ross St & Fourth Ave   \n",
       "1               1010.0  10th St & Penn Ave (David L. Lawrence Conventi...   \n",
       "2               1033.0                              Ivy St & Walnut St      \n",
       "3              49601.0                              Smallman St & 31st St   \n",
       "4               1045.0           S 27th St & Sidney St. (Southside Works)   \n",
       "...                ...                                                ...   \n",
       "19850           1023.0                            Liberty Ave & Baum Blvd   \n",
       "19851           1018.0                            Butler St & Stanton Ave   \n",
       "19852           1093.0                         S Bouquet Ave & Sennott St   \n",
       "19853           1063.0                          Penn Ave & N Atlantic Ave   \n",
       "19854           1099.0                            Forbes Ave & S Craig St   \n",
       "\n",
       "       To station id                                    To station name  \\\n",
       "0             1047.0                            S 22nd St & E Carson St   \n",
       "1             1060.0                                 Penn Ave & 29th St   \n",
       "2             1069.0                             Beacon St & Murray Ave   \n",
       "3             1022.0  Liberty Ave & S Millvale Ave (West Penn Hospital)   \n",
       "4             1045.0           S 27th St & Sidney St. (Southside Works)   \n",
       "...              ...                                                ...   \n",
       "19850         1043.0                        S Millvale Ave & Centre Ave   \n",
       "19851         1019.0                                42nd St & Butler St   \n",
       "19852         1036.0  Schenley Dr at Schenley Plaza (Carnegie Librar...   \n",
       "19853        49401.0                         Stanton Ave & N Negley Ave   \n",
       "19854        49301.0                            Centre Ave & N Craig St   \n",
       "\n",
       "         Usertype        DATE  \n",
       "0      Subscriber  2019-01-01  \n",
       "1      Subscriber  2019-01-01  \n",
       "2      Subscriber  2019-01-01  \n",
       "3      Subscriber  2019-01-01  \n",
       "4        Customer  2019-01-01  \n",
       "...           ...         ...  \n",
       "19850  Subscriber  2019-11-02  \n",
       "19851  Subscriber  2019-11-02  \n",
       "19852    Customer  2019-11-02  \n",
       "19853  Subscriber  2019-11-02  \n",
       "19854  Subscriber  2019-11-02  \n",
       "\n",
       "[89511 rows x 11 columns]"
      ]
     },
     "execution_count": 101,
     "metadata": {},
     "output_type": "execute_result"
    }
   ],
   "source": [
    "ride = pd.DataFrame(data = None)\n",
    "for i in range(9,10):\n",
    "    for j in range(1,5):\n",
    "        ride_1 = pd.read_csv(\"healthy-ride-rentals-201{}-q{}.csv\".format(i, j))\n",
    "        # drop the lines with NA\n",
    "        ride_1 = ride_1.dropna(axis=0)\n",
    "        # copy the column with date\n",
    "        ride_1[\"tmp\"] = ride_1[\"Starttime\"]\n",
    "        # starttime and stoptime delete the date\n",
    "        ride_1[\"Starttime\"] = ride_1[\"Starttime\"].apply(lambda x: str(x).split(\" \")[1])\n",
    "        # convert starttime to minutes\n",
    "        ride_1[\"Starttime\"] = ride_1[\"Starttime\"].apply(lambda x: int(str(x).split(\":\")[0]) * 60 + int(str(x).split(\":\")[1]))\n",
    "        ride_1[\"Stoptime\"] = ride_1[\"Stoptime\"].apply(lambda x: str(x).split(\" \")[1])\n",
    "        # convert stoptime to minutes\n",
    "        ride_1[\"Stoptime\"] = ride_1[\"Stoptime\"].apply(lambda x: int(str(x).split(\":\")[0]) * 60 + int(str(x).split(\":\")[1]))\n",
    "        # extract date to a new column and then merge with weather dataset\n",
    "        ride_1[\"DATE\"] = ride_1[\"tmp\"].apply(lambda x: str(str(x).split(\"/\")[2]).split(\" \")[0] + \"-\" + str(x).split(\"/\")[0]+ \"-\"  + str(x).split(\"/\")[1])\n",
    "        # adjust the format\n",
    "        ride_1[\"DATE\"] = pd.to_datetime(ride_1[\"DATE\"]).apply(lambda x: str(x).split(\" \")[0])\n",
    "        # delete the temp column\n",
    "        del ride_1[\"tmp\"]\n",
    "\n",
    "        # add each subdataset\n",
    "        ride = pd.concat([ride, ride_1])\n",
    "ride"
   ]
  },
  {
   "cell_type": "markdown",
   "metadata": {},
   "source": [
    "1a. We will eliminate the NA data rows after merging the previous two datasets, since each row would be a record of the data of a trip that customer rided. By eliminating a row that has NA value it would not affect the overall dataset significantly, since we have over 200,000 rows (records) of rides that are sufficient enough to train our data."
   ]
  },
  {
   "cell_type": "markdown",
   "metadata": {},
   "source": [
    "1b. The classification we are trying to run will have two categories, one is subscriber, another one is customer."
   ]
  },
  {
   "cell_type": "markdown",
   "metadata": {},
   "source": [
    "1c. When we are predicting trip duration, there is 1 categorical variable, \"Usertype\", which differentiate Subscriber and Customer, that are needed to convert to a dummy variable."
   ]
  },
  {
   "cell_type": "markdown",
   "metadata": {},
   "source": [
    "### Question 2\n",
    "2) Decide whether you are merging your datasets or keeping them separate.\n",
    "\n",
    "a) If you are keeping your datasets separate provide a brief explanation of how you are going to use each dataset.\n",
    "\n",
    "b) If you are joining your datasets check that you are not losing relevant data and you are joining your dataset correctly.\n"
   ]
  },
  {
   "cell_type": "markdown",
   "metadata": {},
   "source": [
    "2. We are merging all of our datasets, since we are able to left merge ride rental data with weather that are based on the variable date. We might only lose a tiny portion of data due to the fact that the format of the variable date are exactly the same for ride rentals and weather, since the data for weather have only a few rows of missing value, the merged the dataset with 200,000 data would not lose over 0.1% of the data by dropping NaN."
   ]
  },
  {
   "cell_type": "markdown",
   "metadata": {},
   "source": [
    "### Merge datasets"
   ]
  },
  {
   "cell_type": "code",
   "execution_count": 102,
   "metadata": {
    "pycharm": {
     "name": "#%%\n"
    }
   },
   "outputs": [
    {
     "name": "stdout",
     "output_type": "stream",
     "text": [
      "<class 'pandas.core.frame.DataFrame'>\n",
      "Int64Index: 89511 entries, 0 to 89510\n",
      "Data columns (total 16 columns):\n",
      " #   Column             Non-Null Count  Dtype  \n",
      "---  ------             --------------  -----  \n",
      " 0   Trip id            89511 non-null  float64\n",
      " 1   Starttime          89511 non-null  int64  \n",
      " 2   Stoptime           89511 non-null  int64  \n",
      " 3   Bikeid             89511 non-null  float64\n",
      " 4   Tripduration       89511 non-null  float64\n",
      " 5   From station id    89511 non-null  float64\n",
      " 6   From station name  89511 non-null  object \n",
      " 7   To station id      89511 non-null  float64\n",
      " 8   To station name    89511 non-null  object \n",
      " 9   Usertype           89511 non-null  object \n",
      " 10  DATE               89511 non-null  object \n",
      " 11  AWND               89511 non-null  float64\n",
      " 12  PRCP               88957 non-null  float64\n",
      " 13  TMAX               89511 non-null  float64\n",
      " 14  TMIN               89511 non-null  float64\n",
      " 15  TAVG               89511 non-null  float64\n",
      "dtypes: float64(10), int64(2), object(4)\n",
      "memory usage: 11.6+ MB\n"
     ]
    },
    {
     "data": {
      "text/html": [
       "<div>\n",
       "<style scoped>\n",
       "    .dataframe tbody tr th:only-of-type {\n",
       "        vertical-align: middle;\n",
       "    }\n",
       "\n",
       "    .dataframe tbody tr th {\n",
       "        vertical-align: top;\n",
       "    }\n",
       "\n",
       "    .dataframe thead th {\n",
       "        text-align: right;\n",
       "    }\n",
       "</style>\n",
       "<table border=\"1\" class=\"dataframe\">\n",
       "  <thead>\n",
       "    <tr style=\"text-align: right;\">\n",
       "      <th></th>\n",
       "      <th>Starttime</th>\n",
       "      <th>Stoptime</th>\n",
       "      <th>Tripduration</th>\n",
       "      <th>From station id</th>\n",
       "      <th>To station id</th>\n",
       "      <th>Usertype</th>\n",
       "      <th>DATE</th>\n",
       "      <th>AWND</th>\n",
       "      <th>PRCP</th>\n",
       "      <th>TMAX</th>\n",
       "      <th>TMIN</th>\n",
       "      <th>TAVG</th>\n",
       "    </tr>\n",
       "  </thead>\n",
       "  <tbody>\n",
       "    <tr>\n",
       "      <th>0</th>\n",
       "      <td>14</td>\n",
       "      <td>30</td>\n",
       "      <td>958.0</td>\n",
       "      <td>49731.0</td>\n",
       "      <td>1047.0</td>\n",
       "      <td>1</td>\n",
       "      <td>2019-01-01</td>\n",
       "      <td>10.29</td>\n",
       "      <td>0.0</td>\n",
       "      <td>61.0</td>\n",
       "      <td>36.0</td>\n",
       "      <td>48.5</td>\n",
       "    </tr>\n",
       "    <tr>\n",
       "      <th>1</th>\n",
       "      <td>33</td>\n",
       "      <td>44</td>\n",
       "      <td>668.0</td>\n",
       "      <td>1010.0</td>\n",
       "      <td>1060.0</td>\n",
       "      <td>1</td>\n",
       "      <td>2019-01-01</td>\n",
       "      <td>10.29</td>\n",
       "      <td>0.0</td>\n",
       "      <td>61.0</td>\n",
       "      <td>36.0</td>\n",
       "      <td>48.5</td>\n",
       "    </tr>\n",
       "    <tr>\n",
       "      <th>2</th>\n",
       "      <td>36</td>\n",
       "      <td>72</td>\n",
       "      <td>2160.0</td>\n",
       "      <td>1033.0</td>\n",
       "      <td>1069.0</td>\n",
       "      <td>1</td>\n",
       "      <td>2019-01-01</td>\n",
       "      <td>10.29</td>\n",
       "      <td>0.0</td>\n",
       "      <td>61.0</td>\n",
       "      <td>36.0</td>\n",
       "      <td>48.5</td>\n",
       "    </tr>\n",
       "    <tr>\n",
       "      <th>3</th>\n",
       "      <td>57</td>\n",
       "      <td>75</td>\n",
       "      <td>1049.0</td>\n",
       "      <td>49601.0</td>\n",
       "      <td>1022.0</td>\n",
       "      <td>1</td>\n",
       "      <td>2019-01-01</td>\n",
       "      <td>10.29</td>\n",
       "      <td>0.0</td>\n",
       "      <td>61.0</td>\n",
       "      <td>36.0</td>\n",
       "      <td>48.5</td>\n",
       "    </tr>\n",
       "    <tr>\n",
       "      <th>4</th>\n",
       "      <td>69</td>\n",
       "      <td>90</td>\n",
       "      <td>1278.0</td>\n",
       "      <td>1045.0</td>\n",
       "      <td>1045.0</td>\n",
       "      <td>0</td>\n",
       "      <td>2019-01-01</td>\n",
       "      <td>10.29</td>\n",
       "      <td>0.0</td>\n",
       "      <td>61.0</td>\n",
       "      <td>36.0</td>\n",
       "      <td>48.5</td>\n",
       "    </tr>\n",
       "  </tbody>\n",
       "</table>\n",
       "</div>"
      ],
      "text/plain": [
       "   Starttime  Stoptime  Tripduration  From station id  To station id  \\\n",
       "0         14        30         958.0          49731.0         1047.0   \n",
       "1         33        44         668.0           1010.0         1060.0   \n",
       "2         36        72        2160.0           1033.0         1069.0   \n",
       "3         57        75        1049.0          49601.0         1022.0   \n",
       "4         69        90        1278.0           1045.0         1045.0   \n",
       "\n",
       "   Usertype        DATE   AWND  PRCP  TMAX  TMIN  TAVG  \n",
       "0         1  2019-01-01  10.29   0.0  61.0  36.0  48.5  \n",
       "1         1  2019-01-01  10.29   0.0  61.0  36.0  48.5  \n",
       "2         1  2019-01-01  10.29   0.0  61.0  36.0  48.5  \n",
       "3         1  2019-01-01  10.29   0.0  61.0  36.0  48.5  \n",
       "4         0  2019-01-01  10.29   0.0  61.0  36.0  48.5  "
      ]
     },
     "execution_count": 102,
     "metadata": {},
     "output_type": "execute_result"
    }
   ],
   "source": [
    "# Merge ride dataframe with weather dataframe based on DATE\n",
    "df_merged = pd.merge(ride, weather, on='DATE')\n",
    "df_merged.info()\n",
    "# Show how many rows have empty values\n",
    "df_merged.isnull().sum(axis=0)\n",
    "# Drop rows which contain NaN values\n",
    "df_merged = df_merged.dropna()\n",
    "# Drop not useful columns\n",
    "df_merged = df_merged.drop(['Trip id', 'Bikeid','From station name', 'To station name'], axis=1)\n",
    "# Convert Usertype from categorical to dummy variable 0(customer) and 1(subscriber)\n",
    "df_merged['Usertype'] = df_merged['Usertype'].astype('category').cat.codes\n",
    "# Show top 5 rows of the dataset\n",
    "df_merged.head(5)\n"
   ]
  },
  {
   "cell_type": "markdown",
   "metadata": {},
   "source": [
    "### Question 3\n",
    "3) Provide at least two initial visualizations that describe your data. These can be a correlation plot of all the variables, a boxplot or density plots of the variables, or even a plot specific to any of the questions you are trying to tackle."
   ]
  },
  {
   "cell_type": "code",
   "execution_count": 103,
   "metadata": {
    "pycharm": {
     "name": "#%%\n"
    }
   },
   "outputs": [
    {
     "data": {
      "image/png": "[encoded data removed]",
      "text/plain": [
       "<Figure size 432x288 with 2 Axes>"
      ]
     },
     "metadata": {},
     "output_type": "display_data"
    }
   ],
   "source": [
    "# Data visualization plots (first)\n",
    "# This plot try to see the correlation between each features\n",
    "corr = df_merged.corr()\n",
    "sns.heatmap(corr, xticklabels=corr.columns, yticklabels=corr.columns,).set_title('Correlation matrix heatmap between variables')\n",
    "plt.show()"
   ]
  },
  {
   "cell_type": "code",
   "execution_count": 104,
   "metadata": {
    "pycharm": {
     "name": "#%%\n"
    }
   },
   "outputs": [
    {
     "data": {
      "image/png": "[encoded data removed]",
      "text/plain": [
       "<Figure size 432x288 with 1 Axes>"
      ]
     },
     "metadata": {},
     "output_type": "display_data"
    }
   ],
   "source": [
    "# Data visualization plots (second)\n",
    "# This plot try to see the distribution of Usertype for ride rentals\n",
    "plt.hist(df_merged['Usertype'])\n",
    "plt.xlabel('Usertype of ride rentals')\n",
    "plt.ylabel('Frequencies')\n",
    "plt.title('Histogram of the Usertype')\n",
    "plt.show()"
   ]
  },
  {
   "cell_type": "markdown",
   "metadata": {},
   "source": [
    "### Question 4\n",
    "4) Define your classification or prediction variables (if you're doing unsupervised learning)."
   ]
  },
  {
   "cell_type": "markdown",
   "metadata": {},
   "source": [
    "We are trying to do both classification and prediction.\n",
    "\n",
    "For prediction, the target variable we are going to predict is Tripduration.\n",
    "\n",
    "For classification, the target variable we are going to classify is Usertype.\n"
   ]
  },
  {
   "cell_type": "markdown",
   "metadata": {},
   "source": [
    "### Question 5\n",
    "5) Define 3-4 questions you want to answer with your datasets."
   ]
  },
  {
   "cell_type": "markdown",
   "metadata": {},
   "source": [
    "1. What is the influence of weather on trip duration? Weather is examined by average wind speed, precipitation, maximum temperature, minimum temperature, and average temperature.\n",
    "2. How does the trip start/stop locations influence on trip duration?\n",
    "3. Do subscribers spend more time riding bikes than customers?\n",
    "4. What are the top 5 most important features for classifying usertype?"
   ]
  },
  {
   "cell_type": "markdown",
   "metadata": {},
   "source": [
    "### Question 6\n",
    "6)Do a pre-liminary test. Train a model (prediction or classification) with your clean dataset. Report how good is this initial test."
   ]
  },
  {
   "cell_type": "markdown",
   "metadata": {
    "pycharm": {
     "name": "#%% md\n"
    }
   },
   "source": [
    "We are doing a prediction on trip duration for this pre-liminary test."
   ]
  },
  {
   "cell_type": "code",
   "execution_count": 105,
   "metadata": {
    "pycharm": {
     "name": "#%%\n"
    }
   },
   "outputs": [],
   "source": [
    "# Split target and independent variable\n",
    "X = df_merged.drop(['Tripduration', 'DATE', 'From station id', 'To station id'], axis=1)\n",
    "y = df_merged['Tripduration']\n",
    "# Set up train and test sets of data, train data is 70 percent of the dataset, and test is 30 percent.\n",
    "X_train, X_test, y_train, y_test = train_test_split(X, y, test_size=0.3, random_state=1)"
   ]
  },
  {
   "cell_type": "code",
   "execution_count": 106,
   "metadata": {
    "pycharm": {
     "name": "#%%\n"
    }
   },
   "outputs": [
    {
     "name": "stdout",
     "output_type": "stream",
     "text": [
      "Train R^2 is 0.09336991555381324\n",
      "Test R^2 is 0.09452291696131798\n",
      "Train MSE is 202391801.9175211\n",
      "Test MSE is 203413051.91560858\n",
      "Cross Validation MSE for linear regression is 202467253.6931138\n"
     ]
    }
   ],
   "source": [
    "# Create linear regression model\n",
    "lm = LinearRegression(normalize=True)\n",
    "lm.fit(X_train, y_train)\n",
    "# Generate target variable prediction\n",
    "y_train_pred = lm.predict(X_train)\n",
    "y_test_pred = lm.predict(X_test)\n",
    "# Get the Cross validation error based on negative MSE\n",
    "CV_error_lm = np.mean(cross_val_score(lm, X_train, y_train, cv=10, scoring='neg_mean_squared_error'))\n",
    "print('Train R^2 is', lm.score(X_train, y_train))\n",
    "print('Test R^2 is', lm.score(X_test, y_test))\n",
    "print('Train MSE is', mean_squared_error(y_train, y_train_pred))\n",
    "print('Test MSE is', mean_squared_error(y_test, y_test_pred))\n",
    "print('Cross Validation MSE for linear regression is', np.abs(CV_error_lm))"
   ]
  },
  {
   "cell_type": "markdown",
   "metadata": {},
   "source": [
    "Ridge Regression:"
   ]
  },
  {
   "cell_type": "code",
   "execution_count": 109,
   "metadata": {},
   "outputs": [
    {
     "name": "stdout",
     "output_type": "stream",
     "text": [
      "Min error:  202468195.5876537\n",
      "Best alpha:  [0.00036123]\n"
     ]
    },
    {
     "data": {
      "image/png": "[encoded data removed]",
      "text/plain": [
       "<Figure size 1440x432 with 2 Axes>"
      ]
     },
     "metadata": {},
     "output_type": "display_data"
    }
   ],
   "source": [
    "#In reality I would only use my train data set here, \n",
    "#but for this homework we will not penalize you if you used the entire dataset.\n",
    "model_ridge = Ridge(normalize=True)\n",
    "errors= []\n",
    "coeficents = []\n",
    "\n",
    "alphas = np.logspace(-5, 5, 200)\n",
    "for a in alphas:\n",
    "    model_ridge.set_params(alpha=a)\n",
    "    model_ridge.fit(X_train, y_train)\n",
    "    CV_error = np.mean(cross_val_score(model_ridge, X_train, y_train, cv=10, scoring='neg_mean_squared_error'))\n",
    "    coeficents.append(model_ridge.coef_)\n",
    "    errors.append(CV_error)\n",
    "\n",
    "error = np.abs(errors)\n",
    "print(\"Min error: \", np.min(error))\n",
    "ridge_minError = np.min(error)\n",
    "index_minerr = (np.where(error == np.min(error))[0])\n",
    "print(\"Best alpha: \", alphas[index_minerr])\n",
    "\n",
    "plt.figure(figsize=(20, 6))\n",
    "plt.subplot(121)\n",
    "ax = plt.gca()\n",
    "ax.plot(alphas, coeficents)\n",
    "plt.axvline(x=alphas[index_minerr], color='r', linestyle='--')\n",
    "ax.set_xscale('log')\n",
    "plt.xlabel('alpha')\n",
    "plt.ylabel('coefficients')\n",
    "plt.axis('tight')\n",
    "\n",
    "plt.subplot(122)\n",
    "ax = plt.gca()\n",
    "ax.plot(alphas, error)\n",
    "plt.axvline(x=alphas[index_minerr], color='r', linestyle='--')\n",
    "ax.set_xscale('log')\n",
    "plt.xlabel('alpha')\n",
    "plt.ylabel('CV Error')\n",
    "plt.axis('tight')\n",
    "\n",
    "plt.show()"
   ]
  },
  {
   "cell_type": "code",
   "execution_count": 110,
   "metadata": {},
   "outputs": [
    {
     "name": "stdout",
     "output_type": "stream",
     "text": [
      "Train R^2 is 0.09336934706420742\n",
      "Test R^2 is 0.09451483266318093\n"
     ]
    }
   ],
   "source": [
    "model_ridge = Ridge(normalize=True)\n",
    "errors= []\n",
    "coeficents = []\n",
    "\n",
    "model_ridge.set_params(alpha=0.00036123)\n",
    "model_ridge.fit(X_train, y_train)\n",
    "CV_error = np.mean(cross_val_score(model_ridge, X_train, y_train, cv=10, scoring='neg_mean_squared_error'))\n",
    "print('Train R^2 is', model_ridge.score(X_train, y_train))\n",
    "print('Test R^2 is', model_ridge.score(X_test, y_test))"
   ]
  },
  {
   "cell_type": "markdown",
   "metadata": {},
   "source": [
    "Lasso Regression:"
   ]
  },
  {
   "cell_type": "code",
   "execution_count": 130,
   "metadata": {
    "pycharm": {
     "name": "#%%\n"
    }
   },
   "outputs": [
    {
     "name": "stdout",
     "output_type": "stream",
     "text": [
      "Min error:  0.23693163313199492\n",
      "Best alpha:  [1.e-05]\n"
     ]
    },
    {
     "data": {
      "image/png": "[encoded data removed]",
      "text/plain": [
       "<Figure size 1440x432 with 2 Axes>"
      ]
     },
     "metadata": {},
     "output_type": "display_data"
    }
   ],
   "source": [
    "model_lasso = Lasso(normalize=True)\n",
    "errors= []\n",
    "coeficents = []\n",
    "\n",
    "alphas = np.logspace(-5, 5, 200)\n",
    "for a in alphas:\n",
    "    model_lasso.set_params(alpha=a)\n",
    "    model_lasso.fit(X_train, y_train)\n",
    "    CV_error = np.mean(cross_val_score(model_lasso, X_train, y_train, cv=10, scoring='neg_mean_squared_error'))\n",
    "    coeficents.append(model_lasso.coef_)\n",
    "    errors.append(CV_error)\n",
    "\n",
    "error = np.abs(errors)\n",
    "print(\"Min error: \", np.min(error))\n",
    "ridge_minError = np.min(error)\n",
    "index_minerr = (np.where(error == np.min(error))[0])\n",
    "print(\"Best alpha: \", alphas[index_minerr])\n",
    "\n",
    "plt.figure(figsize=(20, 6))\n",
    "plt.subplot(121)\n",
    "ax = plt.gca()\n",
    "ax.plot(alphas, coeficents)\n",
    "plt.axvline(x=alphas[index_minerr], color='r', linestyle='--')\n",
    "ax.set_xscale('log')\n",
    "plt.xlabel('alpha')\n",
    "plt.ylabel('coefficients')\n",
    "plt.axis('tight')\n",
    "\n",
    "plt.subplot(122)\n",
    "ax = plt.gca()\n",
    "ax.plot(alphas, error)\n",
    "plt.axvline(x=alphas[index_minerr], color='r', linestyle='--')\n",
    "ax.set_xscale('log')\n",
    "plt.xlabel('alpha')\n",
    "plt.ylabel('CV Error')\n",
    "plt.axis('tight')\n",
    "\n",
    "plt.show()"
   ]
  },
  {
   "cell_type": "code",
   "execution_count": 131,
   "metadata": {},
   "outputs": [
    {
     "name": "stdout",
     "output_type": "stream",
     "text": [
      "Train R^2 is 0.05224563237969637\n",
      "Test R^2 is 0.053128295657474345\n"
     ]
    }
   ],
   "source": [
    "model_lasso = Lasso(normalize=True)\n",
    "errors= []\n",
    "coeficents = []\n",
    "\n",
    "model_lasso.set_params(alpha=1.e-05)\n",
    "model_lasso.fit(X_train, y_train)\n",
    "CV_error = np.mean(cross_val_score(model_lasso, X_train, y_train, cv=10, scoring='neg_mean_squared_error'))\n",
    "print('Train R^2 is', model_lasso.score(X_train, y_train))\n",
    "print('Test R^2 is', model_lasso.score(X_test, y_test))"
   ]
  },
  {
   "cell_type": "markdown",
   "metadata": {},
   "source": [
    "Classification:"
   ]
  },
  {
   "cell_type": "markdown",
   "metadata": {},
   "source": [
    "KNN"
   ]
  },
  {
   "cell_type": "code",
   "execution_count": 132,
   "metadata": {},
   "outputs": [],
   "source": [
    "X = df_merged.drop(['Usertype', 'DATE'], axis=1)\n",
    "y = df_merged['Usertype']"
   ]
  },
  {
   "cell_type": "code",
   "execution_count": 133,
   "metadata": {},
   "outputs": [],
   "source": [
    "X_train, X_test, y_train, y_test = train_test_split(X.to_numpy(), \n",
    "                                                    y.to_numpy(), \n",
    "                                                    test_size=0.3, \n",
    "                                                    random_state=1)\n",
    "labels=['0','1']"
   ]
  },
  {
   "cell_type": "code",
   "execution_count": 134,
   "metadata": {},
   "outputs": [
    {
     "name": "stdout",
     "output_type": "stream",
     "text": [
      "[[9279 3812]\n",
      " [3625 9972]]\n",
      "              precision    recall  f1-score   support\n",
      "\n",
      "           0      0.719     0.709     0.714     13091\n",
      "           1      0.723     0.733     0.728     13597\n",
      "\n",
      "    accuracy                          0.721     26688\n",
      "   macro avg      0.721     0.721     0.721     26688\n",
      "weighted avg      0.721     0.721     0.721     26688\n",
      "\n"
     ]
    }
   ],
   "source": [
    "#i start with the defualt number of neighbors\n",
    "knn_merged = KNeighborsClassifier().fit(X_train, y_train)\n",
    "y_pred = knn_merged.predict(X_test)\n",
    "cm_merged = confusion_matrix(y_test,y_pred)\n",
    "\n",
    "print(cm_merged)\n",
    "print(classification_report(y_test, y_pred, digits=3))"
   ]
  },
  {
   "cell_type": "markdown",
   "metadata": {},
   "source": [
    "Naive Bayes"
   ]
  },
  {
   "cell_type": "code",
   "execution_count": 124,
   "metadata": {},
   "outputs": [],
   "source": [
    "from sklearn.naive_bayes import GaussianNB"
   ]
  },
  {
   "cell_type": "code",
   "execution_count": 135,
   "metadata": {},
   "outputs": [
    {
     "name": "stdout",
     "output_type": "stream",
     "text": [
      "              precision    recall  f1-score   support\n",
      "\n",
      "           0      0.601     0.544     0.571     13091\n",
      "           1      0.598     0.652     0.624     13597\n",
      "\n",
      "    accuracy                          0.599     26688\n",
      "   macro avg      0.599     0.598     0.597     26688\n",
      "weighted avg      0.599     0.599     0.598     26688\n",
      "\n"
     ]
    }
   ],
   "source": [
    "nb_merged = GaussianNB()\n",
    "nb_pred = nb_merged.fit(X_train, y_train).predict(X_test)\n",
    "cm_merged = confusion_matrix(y_test,nb_pred)\n",
    "print(classification_report(y_test, nb_pred, digits=3))"
   ]
  },
  {
   "cell_type": "code",
   "execution_count": null,
   "metadata": {},
   "outputs": [],
   "source": []
  }
 ],
 "metadata": {
  "kernelspec": {
   "display_name": "Python 3",
   "language": "python",
   "name": "python3"
  },
  "language_info": {
   "codemirror_mode": {
    "name": "ipython",
    "version": 3
   },
   "file_extension": ".py",
   "mimetype": "text/x-python",
   "name": "python",
   "nbconvert_exporter": "python",
   "pygments_lexer": "ipython3",
   "version": "3.8.8"
  }
 },
 "nbformat": 4,
 "nbformat_minor": 1
}
