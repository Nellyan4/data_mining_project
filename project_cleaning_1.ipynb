{
 "cells": [
  {
   "cell_type": "markdown",
   "metadata": {},
   "source": [
    "## (Project name)\n",
    "\n",
    "### Group member: Elaine Zhang, Xintong Zheng, Xi Yan\n",
    "\n",
    "Description:"
   ]
  },
  {
   "cell_type": "code",
   "execution_count": 59,
   "metadata": {
    "pycharm": {
     "name": "#%%\n"
    }
   },
   "outputs": [],
   "source": [
    "# Import packages\n",
    "import numpy as np\n",
    "import pandas as pd\n",
    "import seaborn as sns\n",
    "from matplotlib import pyplot as plt\n",
    "import plotly.express as px\n",
    "%matplotlib inline\n",
    "plt.style.use('seaborn-white')"
   ]
  },
  {
   "cell_type": "code",
   "execution_count": 60,
   "metadata": {
    "pycharm": {
     "name": "#%%\n"
    }
   },
   "outputs": [],
   "source": [
    "# Import ML packages\n",
    "from sklearn.metrics import mean_squared_error\n",
    "from sklearn.linear_model import LinearRegression\n",
    "from sklearn.preprocessing import PolynomialFeatures\n",
    "from sklearn.model_selection import train_test_split, LeaveOneOut, KFold, cross_val_score\n",
    "from sklearn.linear_model import Ridge, RidgeCV, Lasso, LassoCV\n",
    "#from sklearn.feature_selection import SequentialFeatureSelector\n",
    "from sklearn.neighbors import KNeighborsClassifier\n",
    "from sklearn import metrics\n",
    "from sklearn.metrics import confusion_matrix, ConfusionMatrixDisplay, classification_report\n",
    "from sklearn import preprocessing\n",
    "from sklearn import neighbors\n",
    "from sklearn.metrics import r2_score\n",
    "from sklearn.cluster import KMeans\n",
    "from yellowbrick.cluster import KElbowVisualizer\n",
    "from sklearn.cluster import KMeans\n",
    "from sklearn.preprocessing import StandardScaler\n",
    "from yellowbrick.cluster import InterclusterDistance\n",
    "from yellowbrick.cluster import SilhouetteVisualizer\n",
    "from yellowbrick.datasets import load_nfl\n",
    "from yellowbrick.datasets import load_credit\n",
    "from yellowbrick.datasets import load_hobbies\n",
    "from sklearn.datasets import make_blobs"
   ]
  },
  {
   "cell_type": "markdown",
   "metadata": {},
   "source": [
    "### Question 1\n",
    "1) Reading and Cleaning your dataset/s\n",
    "\n",
    "a) Explore if your dataset/s has NAs and deal with them (or provide an explanation for keeping them and how you will deal with them moving forward)\n",
    "\n",
    "b) If you are doing a classifier take note of how many data points per class you have.\n",
    "\n",
    "c) Any other necessary conversation such as dealing with categorical variables, verifying each variable is the right type.\n",
    "\n",
    "d) If you have more than one dataset make sure to clean all of your datasets!"
   ]
  },
  {
   "cell_type": "markdown",
   "metadata": {},
   "source": [
    "### Read and clean weather data\n",
    "The weather data is retrieved from [National Centers for Environmental Information](https://www.ncdc.noaa.gov/cdo-web/search), ranged from Jan.1 2017 to Dec.31 2019, of a weather station located at Pittsburgh, PA, USA."
   ]
  },
  {
   "cell_type": "code",
   "execution_count": 61,
   "metadata": {
    "pycharm": {
     "name": "#%%\n"
    }
   },
   "outputs": [
    {
     "name": "stdout",
     "output_type": "stream",
     "text": [
      "<class 'pandas.core.frame.DataFrame'>\n",
      "RangeIndex: 1095 entries, 0 to 1094\n",
      "Data columns (total 6 columns):\n",
      " #   Column  Non-Null Count  Dtype  \n",
      "---  ------  --------------  -----  \n",
      " 0   DATE    1095 non-null   object \n",
      " 1   AWND    1092 non-null   float64\n",
      " 2   PRCP    1094 non-null   float64\n",
      " 3   TMAX    1093 non-null   float64\n",
      " 4   TMIN    1093 non-null   float64\n",
      " 5   TAVG    1093 non-null   float64\n",
      "dtypes: float64(5), object(1)\n",
      "memory usage: 51.5+ KB\n"
     ]
    },
    {
     "data": {
      "text/html": [
       "<div>\n",
       "<style scoped>\n",
       "    .dataframe tbody tr th:only-of-type {\n",
       "        vertical-align: middle;\n",
       "    }\n",
       "\n",
       "    .dataframe tbody tr th {\n",
       "        vertical-align: top;\n",
       "    }\n",
       "\n",
       "    .dataframe thead th {\n",
       "        text-align: right;\n",
       "    }\n",
       "</style>\n",
       "<table border=\"1\" class=\"dataframe\">\n",
       "  <thead>\n",
       "    <tr style=\"text-align: right;\">\n",
       "      <th></th>\n",
       "      <th>DATE</th>\n",
       "      <th>AWND</th>\n",
       "      <th>PRCP</th>\n",
       "      <th>TMAX</th>\n",
       "      <th>TMIN</th>\n",
       "      <th>TAVG</th>\n",
       "    </tr>\n",
       "  </thead>\n",
       "  <tbody>\n",
       "    <tr>\n",
       "      <th>0</th>\n",
       "      <td>2017-01-01</td>\n",
       "      <td>5.82</td>\n",
       "      <td>0.03</td>\n",
       "      <td>44.0</td>\n",
       "      <td>32.0</td>\n",
       "      <td>38.0</td>\n",
       "    </tr>\n",
       "    <tr>\n",
       "      <th>1</th>\n",
       "      <td>2017-01-02</td>\n",
       "      <td>7.16</td>\n",
       "      <td>0.09</td>\n",
       "      <td>46.0</td>\n",
       "      <td>36.0</td>\n",
       "      <td>41.0</td>\n",
       "    </tr>\n",
       "    <tr>\n",
       "      <th>2</th>\n",
       "      <td>2017-01-03</td>\n",
       "      <td>6.93</td>\n",
       "      <td>0.76</td>\n",
       "      <td>50.0</td>\n",
       "      <td>42.0</td>\n",
       "      <td>46.0</td>\n",
       "    </tr>\n",
       "    <tr>\n",
       "      <th>3</th>\n",
       "      <td>2017-01-04</td>\n",
       "      <td>15.66</td>\n",
       "      <td>0.04</td>\n",
       "      <td>45.0</td>\n",
       "      <td>21.0</td>\n",
       "      <td>33.0</td>\n",
       "    </tr>\n",
       "    <tr>\n",
       "      <th>4</th>\n",
       "      <td>2017-01-05</td>\n",
       "      <td>8.72</td>\n",
       "      <td>0.06</td>\n",
       "      <td>23.0</td>\n",
       "      <td>18.0</td>\n",
       "      <td>20.5</td>\n",
       "    </tr>\n",
       "  </tbody>\n",
       "</table>\n",
       "</div>"
      ],
      "text/plain": [
       "         DATE   AWND  PRCP  TMAX  TMIN  TAVG\n",
       "0  2017-01-01   5.82  0.03  44.0  32.0  38.0\n",
       "1  2017-01-02   7.16  0.09  46.0  36.0  41.0\n",
       "2  2017-01-03   6.93  0.76  50.0  42.0  46.0\n",
       "3  2017-01-04  15.66  0.04  45.0  21.0  33.0\n",
       "4  2017-01-05   8.72  0.06  23.0  18.0  20.5"
      ]
     },
     "execution_count": 61,
     "metadata": {},
     "output_type": "execute_result"
    }
   ],
   "source": [
    "# Read weather csv file\n",
    "weather = pd.read_csv(\"pit_weather.csv\")\n",
    "# Select only 5 columns from the initial dataset\n",
    "weather = weather[['DATE', 'AWND', 'PRCP', 'TMAX', 'TMIN']]\n",
    "# Calculate the average temperature of the day\n",
    "weather['TAVG'] = weather[['TMAX', 'TMIN']].mean(axis=1)\n",
    "# Show if there are any missing values\n",
    "weather.info()\n",
    "# However, we will not drop the NaN values now for the convenience of merging dataset\n",
    "weather.isnull().sum(axis=0)\n",
    "# Print the first 5 rows of the dataset\n",
    "weather.head(5)"
   ]
  },
  {
   "cell_type": "markdown",
   "metadata": {},
   "source": [
    "### Read and clean ride rentals data\n",
    "The ride rental data is retrieved from [Western Pennsylvania Regional Data Center](https://data.wprdc.org/dataset/healthyride-trip-data), since we are using 2017-2019 data, and the data is a .csv file quarterly. We have to combine 12 .csv data first in order to finish the cleaning."
   ]
  },
  {
   "cell_type": "code",
   "execution_count": 62,
   "metadata": {
    "pycharm": {
     "name": "#%%\n"
    }
   },
   "outputs": [
    {
     "name": "stderr",
     "output_type": "stream",
     "text": [
      "C:\\Users\\Elaine\\anaconda3\\lib\\site-packages\\IPython\\core\\interactiveshell.py:3165: DtypeWarning: Columns (1,2,6,8,9) have mixed types.Specify dtype option on import or set low_memory=False.\n",
      "  has_raised = await self.run_ast_nodes(code_ast.body, cell_name,\n"
     ]
    },
    {
     "data": {
      "text/html": [
       "<div>\n",
       "<style scoped>\n",
       "    .dataframe tbody tr th:only-of-type {\n",
       "        vertical-align: middle;\n",
       "    }\n",
       "\n",
       "    .dataframe tbody tr th {\n",
       "        vertical-align: top;\n",
       "    }\n",
       "\n",
       "    .dataframe thead th {\n",
       "        text-align: right;\n",
       "    }\n",
       "</style>\n",
       "<table border=\"1\" class=\"dataframe\">\n",
       "  <thead>\n",
       "    <tr style=\"text-align: right;\">\n",
       "      <th></th>\n",
       "      <th>Trip id</th>\n",
       "      <th>Starttime</th>\n",
       "      <th>Stoptime</th>\n",
       "      <th>Bikeid</th>\n",
       "      <th>Tripduration</th>\n",
       "      <th>From station id</th>\n",
       "      <th>From station name</th>\n",
       "      <th>To station id</th>\n",
       "      <th>To station name</th>\n",
       "      <th>Usertype</th>\n",
       "      <th>DATE</th>\n",
       "    </tr>\n",
       "  </thead>\n",
       "  <tbody>\n",
       "    <tr>\n",
       "      <th>0</th>\n",
       "      <td>25723960.0</td>\n",
       "      <td>508</td>\n",
       "      <td>510</td>\n",
       "      <td>70478.0</td>\n",
       "      <td>110.0</td>\n",
       "      <td>1043.0</td>\n",
       "      <td>S Millvale Ave &amp; Centre Ave</td>\n",
       "      <td>1044.0</td>\n",
       "      <td>Zulema St &amp; Coltart Ave</td>\n",
       "      <td>Subscriber</td>\n",
       "      <td>2017-01-01</td>\n",
       "    </tr>\n",
       "    <tr>\n",
       "      <th>1</th>\n",
       "      <td>25724207.0</td>\n",
       "      <td>593</td>\n",
       "      <td>600</td>\n",
       "      <td>70439.0</td>\n",
       "      <td>426.0</td>\n",
       "      <td>1014.0</td>\n",
       "      <td>Ridge Ave &amp; Brighton Rd (CCAC)</td>\n",
       "      <td>1012.0</td>\n",
       "      <td>North Shore Trail &amp; Fort Duquesne Bridge</td>\n",
       "      <td>Customer</td>\n",
       "      <td>2017-01-01</td>\n",
       "    </tr>\n",
       "    <tr>\n",
       "      <th>2</th>\n",
       "      <td>25724297.0</td>\n",
       "      <td>621</td>\n",
       "      <td>646</td>\n",
       "      <td>70440.0</td>\n",
       "      <td>1498.0</td>\n",
       "      <td>1019.0</td>\n",
       "      <td>42nd St &amp; Butler St</td>\n",
       "      <td>1012.0</td>\n",
       "      <td>North Shore Trail &amp; Fort Duquesne Bridge</td>\n",
       "      <td>Subscriber</td>\n",
       "      <td>2017-01-01</td>\n",
       "    </tr>\n",
       "    <tr>\n",
       "      <th>3</th>\n",
       "      <td>25724391.0</td>\n",
       "      <td>663</td>\n",
       "      <td>690</td>\n",
       "      <td>70002.0</td>\n",
       "      <td>1581.0</td>\n",
       "      <td>1019.0</td>\n",
       "      <td>42nd St &amp; Butler St</td>\n",
       "      <td>1013.0</td>\n",
       "      <td>Isabella St &amp; Federal St (PNC Park)</td>\n",
       "      <td>Customer</td>\n",
       "      <td>2017-01-01</td>\n",
       "    </tr>\n",
       "    <tr>\n",
       "      <th>4</th>\n",
       "      <td>25724479.0</td>\n",
       "      <td>703</td>\n",
       "      <td>729</td>\n",
       "      <td>70024.0</td>\n",
       "      <td>1563.0</td>\n",
       "      <td>1018.0</td>\n",
       "      <td>Butler St &amp; Stanton Ave</td>\n",
       "      <td>1013.0</td>\n",
       "      <td>Isabella St &amp; Federal St (PNC Park)</td>\n",
       "      <td>Customer</td>\n",
       "      <td>2017-01-01</td>\n",
       "    </tr>\n",
       "    <tr>\n",
       "      <th>...</th>\n",
       "      <td>...</td>\n",
       "      <td>...</td>\n",
       "      <td>...</td>\n",
       "      <td>...</td>\n",
       "      <td>...</td>\n",
       "      <td>...</td>\n",
       "      <td>...</td>\n",
       "      <td>...</td>\n",
       "      <td>...</td>\n",
       "      <td>...</td>\n",
       "      <td>...</td>\n",
       "    </tr>\n",
       "    <tr>\n",
       "      <th>19850</th>\n",
       "      <td>89029487.0</td>\n",
       "      <td>1003</td>\n",
       "      <td>1009</td>\n",
       "      <td>70340.0</td>\n",
       "      <td>347.0</td>\n",
       "      <td>1023.0</td>\n",
       "      <td>Liberty Ave &amp; Baum Blvd</td>\n",
       "      <td>1043.0</td>\n",
       "      <td>S Millvale Ave &amp; Centre Ave</td>\n",
       "      <td>Subscriber</td>\n",
       "      <td>2019-11-02</td>\n",
       "    </tr>\n",
       "    <tr>\n",
       "      <th>19851</th>\n",
       "      <td>89029593.0</td>\n",
       "      <td>1007</td>\n",
       "      <td>1011</td>\n",
       "      <td>70277.0</td>\n",
       "      <td>242.0</td>\n",
       "      <td>1018.0</td>\n",
       "      <td>Butler St &amp; Stanton Ave</td>\n",
       "      <td>1019.0</td>\n",
       "      <td>42nd St &amp; Butler St</td>\n",
       "      <td>Subscriber</td>\n",
       "      <td>2019-11-02</td>\n",
       "    </tr>\n",
       "    <tr>\n",
       "      <th>19852</th>\n",
       "      <td>89029810.0</td>\n",
       "      <td>1016</td>\n",
       "      <td>1048</td>\n",
       "      <td>70153.0</td>\n",
       "      <td>1952.0</td>\n",
       "      <td>1093.0</td>\n",
       "      <td>S Bouquet Ave &amp; Sennott St</td>\n",
       "      <td>1036.0</td>\n",
       "      <td>Schenley Dr at Schenley Plaza (Carnegie Librar...</td>\n",
       "      <td>Customer</td>\n",
       "      <td>2019-11-02</td>\n",
       "    </tr>\n",
       "    <tr>\n",
       "      <th>19853</th>\n",
       "      <td>89031027.0</td>\n",
       "      <td>1061</td>\n",
       "      <td>1069</td>\n",
       "      <td>70536.0</td>\n",
       "      <td>479.0</td>\n",
       "      <td>1063.0</td>\n",
       "      <td>Penn Ave &amp; N Atlantic Ave</td>\n",
       "      <td>49401.0</td>\n",
       "      <td>Stanton Ave &amp; N Negley Ave</td>\n",
       "      <td>Subscriber</td>\n",
       "      <td>2019-11-02</td>\n",
       "    </tr>\n",
       "    <tr>\n",
       "      <th>19854</th>\n",
       "      <td>89031055.0</td>\n",
       "      <td>1062</td>\n",
       "      <td>1068</td>\n",
       "      <td>70444.0</td>\n",
       "      <td>366.0</td>\n",
       "      <td>1099.0</td>\n",
       "      <td>Forbes Ave &amp; S Craig St</td>\n",
       "      <td>49301.0</td>\n",
       "      <td>Centre Ave &amp; N Craig St</td>\n",
       "      <td>Subscriber</td>\n",
       "      <td>2019-11-02</td>\n",
       "    </tr>\n",
       "  </tbody>\n",
       "</table>\n",
       "<p>227290 rows × 11 columns</p>\n",
       "</div>"
      ],
      "text/plain": [
       "          Trip id  Starttime  Stoptime   Bikeid  Tripduration  \\\n",
       "0      25723960.0        508       510  70478.0         110.0   \n",
       "1      25724207.0        593       600  70439.0         426.0   \n",
       "2      25724297.0        621       646  70440.0        1498.0   \n",
       "3      25724391.0        663       690  70002.0        1581.0   \n",
       "4      25724479.0        703       729  70024.0        1563.0   \n",
       "...           ...        ...       ...      ...           ...   \n",
       "19850  89029487.0       1003      1009  70340.0         347.0   \n",
       "19851  89029593.0       1007      1011  70277.0         242.0   \n",
       "19852  89029810.0       1016      1048  70153.0        1952.0   \n",
       "19853  89031027.0       1061      1069  70536.0         479.0   \n",
       "19854  89031055.0       1062      1068  70444.0         366.0   \n",
       "\n",
       "       From station id               From station name  To station id  \\\n",
       "0               1043.0     S Millvale Ave & Centre Ave         1044.0   \n",
       "1               1014.0  Ridge Ave & Brighton Rd (CCAC)         1012.0   \n",
       "2               1019.0             42nd St & Butler St         1012.0   \n",
       "3               1019.0             42nd St & Butler St         1013.0   \n",
       "4               1018.0         Butler St & Stanton Ave         1013.0   \n",
       "...                ...                             ...            ...   \n",
       "19850           1023.0         Liberty Ave & Baum Blvd         1043.0   \n",
       "19851           1018.0         Butler St & Stanton Ave         1019.0   \n",
       "19852           1093.0      S Bouquet Ave & Sennott St         1036.0   \n",
       "19853           1063.0       Penn Ave & N Atlantic Ave        49401.0   \n",
       "19854           1099.0         Forbes Ave & S Craig St        49301.0   \n",
       "\n",
       "                                         To station name    Usertype  \\\n",
       "0                                Zulema St & Coltart Ave  Subscriber   \n",
       "1               North Shore Trail & Fort Duquesne Bridge    Customer   \n",
       "2               North Shore Trail & Fort Duquesne Bridge  Subscriber   \n",
       "3                    Isabella St & Federal St (PNC Park)    Customer   \n",
       "4                    Isabella St & Federal St (PNC Park)    Customer   \n",
       "...                                                  ...         ...   \n",
       "19850                        S Millvale Ave & Centre Ave  Subscriber   \n",
       "19851                                42nd St & Butler St  Subscriber   \n",
       "19852  Schenley Dr at Schenley Plaza (Carnegie Librar...    Customer   \n",
       "19853                         Stanton Ave & N Negley Ave  Subscriber   \n",
       "19854                            Centre Ave & N Craig St  Subscriber   \n",
       "\n",
       "             DATE  \n",
       "0      2017-01-01  \n",
       "1      2017-01-01  \n",
       "2      2017-01-01  \n",
       "3      2017-01-01  \n",
       "4      2017-01-01  \n",
       "...           ...  \n",
       "19850  2019-11-02  \n",
       "19851  2019-11-02  \n",
       "19852  2019-11-02  \n",
       "19853  2019-11-02  \n",
       "19854  2019-11-02  \n",
       "\n",
       "[227290 rows x 11 columns]"
      ]
     },
     "execution_count": 62,
     "metadata": {},
     "output_type": "execute_result"
    }
   ],
   "source": [
    "ride = pd.DataFrame(data = None)\n",
    "for i in range(7,10):\n",
    "    for j in range(1,5):\n",
    "        ride_1 = pd.read_csv(\"healthy-ride-rentals-201{}-q{}.csv\".format(i, j))\n",
    "        # drop the lines with NA\n",
    "        ride_1 = ride_1.dropna(axis=0)\n",
    "        # copy the column with date\n",
    "        ride_1[\"tmp\"] = ride_1[\"Starttime\"]\n",
    "        # starttime and stoptime delete the date\n",
    "        ride_1[\"Starttime\"] = ride_1[\"Starttime\"].apply(lambda x: str(x).split(\" \")[1])\n",
    "        # convert starttime to minutes\n",
    "        ride_1[\"Starttime\"] = ride_1[\"Starttime\"].apply(lambda x: int(str(x).split(\":\")[0]) * 60 + int(str(x).split(\":\")[1]))\n",
    "        ride_1[\"Stoptime\"] = ride_1[\"Stoptime\"].apply(lambda x: str(x).split(\" \")[1])\n",
    "        # convert stoptime to minutes\n",
    "        ride_1[\"Stoptime\"] = ride_1[\"Stoptime\"].apply(lambda x: int(str(x).split(\":\")[0]) * 60 + int(str(x).split(\":\")[1]))\n",
    "        # extract date to a new column and then merge with weather dataset\n",
    "        ride_1[\"DATE\"] = ride_1[\"tmp\"].apply(lambda x: str(str(x).split(\"/\")[2]).split(\" \")[0] + \"-\" + str(x).split(\"/\")[0]+ \"-\"  + str(x).split(\"/\")[1])\n",
    "        # adjust the format\n",
    "        ride_1[\"DATE\"] = pd.to_datetime(ride_1[\"DATE\"]).apply(lambda x: str(x).split(\" \")[0])\n",
    "        # delete the temp column\n",
    "        del ride_1[\"tmp\"]\n",
    "\n",
    "        # add each subdataset\n",
    "        ride = pd.concat([ride, ride_1])\n",
    "ride"
   ]
  },
  {
   "cell_type": "markdown",
   "metadata": {},
   "source": [
    "1a. We will eliminate the NA data rows after merging the previous two datasets, since each row would be a record of the data of a trip that customer rided. By eliminating a row that has NA value it would not affect the overall dataset significantly, since we have over 200,000 rows (records) of rides that are sufficient enough to train our data."
   ]
  },
  {
   "cell_type": "markdown",
   "metadata": {},
   "source": [
    "1b. The classification we are trying to run will have two categories, one is subscriber, another one is customer."
   ]
  },
  {
   "cell_type": "markdown",
   "metadata": {},
   "source": [
    "1c. When we are predicting trip duration, there is 1 categorical variable, \"Usertype\", which differentiate Subscriber and Customer, that are needed to convert to a dummy variable."
   ]
  },
  {
   "cell_type": "markdown",
   "metadata": {},
   "source": [
    "### Question 2\n",
    "2) Decide whether you are merging your datasets or keeping them separate.\n",
    "\n",
    "a) If you are keeping your datasets separate provide a brief explanation of how you are going to use each dataset.\n",
    "\n",
    "b) If you are joining your datasets check that you are not losing relevant data and you are joining your dataset correctly.\n"
   ]
  },
  {
   "cell_type": "markdown",
   "metadata": {},
   "source": [
    "2. We are merging all of our datasets, since we are able to left merge ride rental data with weather that are based on the variable date. We might only lose a tiny portion of data due to the fact that the format of the variable date are exactly the same for ride rentals and weather, since the data for weather have only a few rows of missing value, the merged the dataset with 200,000 data would not lose over 0.1% of the data by dropping NaN."
   ]
  },
  {
   "cell_type": "markdown",
   "metadata": {},
   "source": [
    "### Merge datasets"
   ]
  },
  {
   "cell_type": "code",
   "execution_count": 63,
   "metadata": {
    "pycharm": {
     "name": "#%%\n"
    }
   },
   "outputs": [
    {
     "name": "stdout",
     "output_type": "stream",
     "text": [
      "<class 'pandas.core.frame.DataFrame'>\n",
      "Int64Index: 227290 entries, 0 to 227289\n",
      "Data columns (total 16 columns):\n",
      " #   Column             Non-Null Count   Dtype  \n",
      "---  ------             --------------   -----  \n",
      " 0   Trip id            227290 non-null  float64\n",
      " 1   Starttime          227290 non-null  int64  \n",
      " 2   Stoptime           227290 non-null  int64  \n",
      " 3   Bikeid             227290 non-null  float64\n",
      " 4   Tripduration       227290 non-null  float64\n",
      " 5   From station id    227290 non-null  float64\n",
      " 6   From station name  227290 non-null  object \n",
      " 7   To station id      227290 non-null  float64\n",
      " 8   To station name    227290 non-null  object \n",
      " 9   Usertype           227290 non-null  object \n",
      " 10  DATE               227290 non-null  object \n",
      " 11  AWND               227006 non-null  float64\n",
      " 12  PRCP               226736 non-null  float64\n",
      " 13  TMAX               227215 non-null  float64\n",
      " 14  TMIN               227215 non-null  float64\n",
      " 15  TAVG               227215 non-null  float64\n",
      "dtypes: float64(10), int64(2), object(4)\n",
      "memory usage: 29.5+ MB\n"
     ]
    },
    {
     "data": {
      "text/html": [
       "<div>\n",
       "<style scoped>\n",
       "    .dataframe tbody tr th:only-of-type {\n",
       "        vertical-align: middle;\n",
       "    }\n",
       "\n",
       "    .dataframe tbody tr th {\n",
       "        vertical-align: top;\n",
       "    }\n",
       "\n",
       "    .dataframe thead th {\n",
       "        text-align: right;\n",
       "    }\n",
       "</style>\n",
       "<table border=\"1\" class=\"dataframe\">\n",
       "  <thead>\n",
       "    <tr style=\"text-align: right;\">\n",
       "      <th></th>\n",
       "      <th>Starttime</th>\n",
       "      <th>Stoptime</th>\n",
       "      <th>Tripduration</th>\n",
       "      <th>From station id</th>\n",
       "      <th>To station id</th>\n",
       "      <th>Usertype</th>\n",
       "      <th>DATE</th>\n",
       "      <th>AWND</th>\n",
       "      <th>PRCP</th>\n",
       "      <th>TMAX</th>\n",
       "      <th>TMIN</th>\n",
       "      <th>TAVG</th>\n",
       "    </tr>\n",
       "  </thead>\n",
       "  <tbody>\n",
       "    <tr>\n",
       "      <th>0</th>\n",
       "      <td>508</td>\n",
       "      <td>510</td>\n",
       "      <td>1.833333</td>\n",
       "      <td>1043.0</td>\n",
       "      <td>1044.0</td>\n",
       "      <td>1</td>\n",
       "      <td>2017-01-01</td>\n",
       "      <td>5.82</td>\n",
       "      <td>0.03</td>\n",
       "      <td>44.0</td>\n",
       "      <td>32.0</td>\n",
       "      <td>38.0</td>\n",
       "    </tr>\n",
       "    <tr>\n",
       "      <th>1</th>\n",
       "      <td>593</td>\n",
       "      <td>600</td>\n",
       "      <td>7.100000</td>\n",
       "      <td>1014.0</td>\n",
       "      <td>1012.0</td>\n",
       "      <td>0</td>\n",
       "      <td>2017-01-01</td>\n",
       "      <td>5.82</td>\n",
       "      <td>0.03</td>\n",
       "      <td>44.0</td>\n",
       "      <td>32.0</td>\n",
       "      <td>38.0</td>\n",
       "    </tr>\n",
       "    <tr>\n",
       "      <th>2</th>\n",
       "      <td>621</td>\n",
       "      <td>646</td>\n",
       "      <td>24.966667</td>\n",
       "      <td>1019.0</td>\n",
       "      <td>1012.0</td>\n",
       "      <td>1</td>\n",
       "      <td>2017-01-01</td>\n",
       "      <td>5.82</td>\n",
       "      <td>0.03</td>\n",
       "      <td>44.0</td>\n",
       "      <td>32.0</td>\n",
       "      <td>38.0</td>\n",
       "    </tr>\n",
       "    <tr>\n",
       "      <th>3</th>\n",
       "      <td>663</td>\n",
       "      <td>690</td>\n",
       "      <td>26.350000</td>\n",
       "      <td>1019.0</td>\n",
       "      <td>1013.0</td>\n",
       "      <td>0</td>\n",
       "      <td>2017-01-01</td>\n",
       "      <td>5.82</td>\n",
       "      <td>0.03</td>\n",
       "      <td>44.0</td>\n",
       "      <td>32.0</td>\n",
       "      <td>38.0</td>\n",
       "    </tr>\n",
       "    <tr>\n",
       "      <th>4</th>\n",
       "      <td>703</td>\n",
       "      <td>729</td>\n",
       "      <td>26.050000</td>\n",
       "      <td>1018.0</td>\n",
       "      <td>1013.0</td>\n",
       "      <td>0</td>\n",
       "      <td>2017-01-01</td>\n",
       "      <td>5.82</td>\n",
       "      <td>0.03</td>\n",
       "      <td>44.0</td>\n",
       "      <td>32.0</td>\n",
       "      <td>38.0</td>\n",
       "    </tr>\n",
       "  </tbody>\n",
       "</table>\n",
       "</div>"
      ],
      "text/plain": [
       "   Starttime  Stoptime  Tripduration  From station id  To station id  \\\n",
       "0        508       510      1.833333           1043.0         1044.0   \n",
       "1        593       600      7.100000           1014.0         1012.0   \n",
       "2        621       646     24.966667           1019.0         1012.0   \n",
       "3        663       690     26.350000           1019.0         1013.0   \n",
       "4        703       729     26.050000           1018.0         1013.0   \n",
       "\n",
       "   Usertype        DATE  AWND  PRCP  TMAX  TMIN  TAVG  \n",
       "0         1  2017-01-01  5.82  0.03  44.0  32.0  38.0  \n",
       "1         0  2017-01-01  5.82  0.03  44.0  32.0  38.0  \n",
       "2         1  2017-01-01  5.82  0.03  44.0  32.0  38.0  \n",
       "3         0  2017-01-01  5.82  0.03  44.0  32.0  38.0  \n",
       "4         0  2017-01-01  5.82  0.03  44.0  32.0  38.0  "
      ]
     },
     "execution_count": 63,
     "metadata": {},
     "output_type": "execute_result"
    }
   ],
   "source": [
    "# Merge ride dataframe with weather dataframe based on DATE\n",
    "df_merged = pd.merge(ride, weather, on='DATE')\n",
    "df_merged.info()\n",
    "# Show how many rows have empty values\n",
    "df_merged.isnull().sum(axis=0)\n",
    "# Drop rows which contain NaN values\n",
    "df_merged = df_merged.dropna()\n",
    "# Drop not useful columns\n",
    "df_merged = df_merged.drop(['Trip id', 'Bikeid','From station name', 'To station name'], axis=1)\n",
    "# Convert Usertype from categorical to dummy variable 0(customer) and 1(subscriber)\n",
    "df_merged['Usertype'] = df_merged['Usertype'].astype('category').cat.codes\n",
    "# Show top 5 rows of the dataset\n",
    "df_merged.head(5)\n"
   ]
  },
  {
   "cell_type": "markdown",
   "metadata": {},
   "source": [
    "### Question 3\n",
    "3) Provide at least two initial visualizations that describe your data. These can be a correlation plot of all the variables, a boxplot or density plots of the variables, or even a plot specific to any of the questions you are trying to tackle."
   ]
  },
  {
   "cell_type": "code",
   "execution_count": 64,
   "metadata": {
    "pycharm": {
     "name": "#%%\n"
    }
   },
   "outputs": [
    {
     "data": {
      "image/png": "[encoded data removed]",
      "text/plain": [
       "<Figure size 432x288 with 2 Axes>"
      ]
     },
     "metadata": {},
     "output_type": "display_data"
    }
   ],
   "source": [
    "# Data visualization plots (first)\n",
    "# This plot try to see the correlation between each features\n",
    "corr = df_merged.corr()\n",
    "sns.heatmap(corr, xticklabels=corr.columns, yticklabels=corr.columns,).set_title('Correlation matrix heatmap between variables')\n",
    "plt.show()"
   ]
  },
  {
   "cell_type": "code",
   "execution_count": 65,
   "metadata": {
    "pycharm": {
     "name": "#%%\n"
    }
   },
   "outputs": [
    {
     "data": {
      "image/png": "[encoded data removed]",
      "text/plain": [
       "<Figure size 432x288 with 1 Axes>"
      ]
     },
     "metadata": {},
     "output_type": "display_data"
    }
   ],
   "source": [
    "# Data visualization plots (second)\n",
    "# This plot try to see the distribution of Usertype for ride rentals\n",
    "plt.hist(df_merged['Usertype'])\n",
    "plt.xlabel('Usertype of ride rentals')\n",
    "plt.ylabel('Frequencies')\n",
    "plt.title('Histogram of the Usertype')\n",
    "plt.show()"
   ]
  },
  {
   "cell_type": "markdown",
   "metadata": {},
   "source": [
    "### Question 4\n",
    "4) Define your classification or prediction variables (if you're doing unsupervised learning)."
   ]
  },
  {
   "cell_type": "markdown",
   "metadata": {},
   "source": [
    "We are trying to do both classification and prediction.\n",
    "\n",
    "For prediction, the target variable we are going to predict is Tripduration.\n",
    "\n",
    "For classification, the target variable we are going to classify is Usertype.\n"
   ]
  },
  {
   "cell_type": "markdown",
   "metadata": {},
   "source": [
    "### Question 5\n",
    "5) Define 3-4 questions you want to answer with your datasets."
   ]
  },
  {
   "cell_type": "markdown",
   "metadata": {},
   "source": [
    "1. What is the influence of weather on trip duration? Weather is examined by average wind speed, precipitation, maximum temperature, minimum temperature, and average temperature.\n",
    "2. How does the trip start/stop locations influence on trip duration?\n",
    "3. Do subscribers spend more time riding bikes than customers?\n",
    "4. What are the top 5 most important features for classifying usertype?"
   ]
  },
  {
   "cell_type": "markdown",
   "metadata": {},
   "source": [
    "### Question 6\n",
    "6)Do a pre-liminary test. Train a model (prediction or classification) with your clean dataset. Report how good is this initial test."
   ]
  },
  {
   "cell_type": "markdown",
   "metadata": {
    "pycharm": {
     "name": "#%% md\n"
    }
   },
   "source": [
    "We are doing a prediction on trip duration for this pre-liminary test."
   ]
  },
  {
   "cell_type": "code",
   "execution_count": 66,
   "metadata": {
    "pycharm": {
     "name": "#%%\n"
    }
   },
   "outputs": [],
   "source": [
    "# Split target and independent variable\n",
    "X = df_merged.drop(['Tripduration', 'DATE', 'From station id', 'To station id'], axis=1)\n",
    "y = df_merged['Tripduration']\n",
    "# Set up train and test sets of data, train data is 70 percent of the dataset, and test is 30 percent.\n",
    "X_train, X_test, y_train, y_test = train_test_split(X, y, test_size=0.3, random_state=1)"
   ]
  },
  {
   "cell_type": "code",
   "execution_count": 69,
   "metadata": {
    "pycharm": {
     "name": "#%%\n"
    }
   },
   "outputs": [
    {
     "name": "stdout",
     "output_type": "stream",
     "text": [
      "Train R^2 is 0.08250536004355702\n",
      "Test R^2 is 0.0799660585301355\n",
      "Train MSE is 49327.3009790782\n",
      "Test MSE is 50969.96576306384\n",
      "Cross Validation MSE for linear regression is 49334.55771313743\n"
     ]
    }
   ],
   "source": [
    "# Create linear regression model\n",
    "lm = LinearRegression(normalize=True)\n",
    "lm.fit(X_train, y_train)\n",
    "# Generate target variable prediction\n",
    "y_train_pred = lm.predict(X_train)\n",
    "y_test_pred = lm.predict(X_test)\n",
    "# Get the Cross validation error based on negative MSE\n",
    "CV_error_lm = np.mean(cross_val_score(lm, X_train, y_train, cv=10, scoring='neg_mean_squared_error'))\n",
    "print('Train R^2 is', lm.score(X_train, y_train))\n",
    "print('Test R^2 is', lm.score(X_test, y_test))\n",
    "print('Train MSE is', mean_squared_error(y_train, y_train_pred))\n",
    "print('Test MSE is', mean_squared_error(y_test, y_test_pred))\n",
    "print('Cross Validation MSE for linear regression is', np.abs(CV_error_lm))"
   ]
  },
  {
   "cell_type": "code",
   "execution_count": null,
   "metadata": {
    "pycharm": {
     "name": "#%%\n"
    }
   },
   "outputs": [],
   "source": []
  }
 ],
 "metadata": {
  "kernelspec": {
   "display_name": "Python 3",
   "language": "python",
   "name": "python3"
  },
  "language_info": {
   "codemirror_mode": {
    "name": "ipython",
    "version": 3
   },
   "file_extension": ".py",
   "mimetype": "text/x-python",
   "name": "python",
   "nbconvert_exporter": "python",
   "pygments_lexer": "ipython3",
   "version": "3.8.8"
  }
 },
 "nbformat": 4,
 "nbformat_minor": 1
}
