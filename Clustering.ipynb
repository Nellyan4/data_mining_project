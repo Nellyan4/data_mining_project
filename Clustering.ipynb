{
 "cells": [
  {
   "cell_type": "code",
   "execution_count": 4,
   "id": "e8f57348",
   "metadata": {},
   "outputs": [
    {
     "ename": "AttributeError",
     "evalue": "partially initialized module 'pandas' has no attribute 'core' (most likely due to a circular import)",
     "output_type": "error",
     "traceback": [
      "\u001B[0;31m---------------------------------------------------------------------------\u001B[0m",
      "\u001B[0;31mAttributeError\u001B[0m                            Traceback (most recent call last)",
      "\u001B[0;32m/var/folders/8h/ysxdy2n52md_q48rldhcg5h00000gn/T/ipykernel_2178/2470404618.py\u001B[0m in \u001B[0;36m<module>\u001B[0;34m\u001B[0m\n\u001B[1;32m      1\u001B[0m \u001B[0;31m# Import packages\u001B[0m\u001B[0;34m\u001B[0m\u001B[0;34m\u001B[0m\u001B[0;34m\u001B[0m\u001B[0m\n\u001B[1;32m      2\u001B[0m \u001B[0;32mimport\u001B[0m \u001B[0mnumpy\u001B[0m \u001B[0;32mas\u001B[0m \u001B[0mnp\u001B[0m\u001B[0;34m\u001B[0m\u001B[0;34m\u001B[0m\u001B[0m\n\u001B[0;32m----> 3\u001B[0;31m \u001B[0;32mimport\u001B[0m \u001B[0mpandas\u001B[0m \u001B[0;32mas\u001B[0m \u001B[0mpd\u001B[0m\u001B[0;34m\u001B[0m\u001B[0;34m\u001B[0m\u001B[0m\n\u001B[0m\u001B[1;32m      4\u001B[0m \u001B[0;32mimport\u001B[0m \u001B[0mseaborn\u001B[0m \u001B[0;32mas\u001B[0m \u001B[0msns\u001B[0m\u001B[0;34m\u001B[0m\u001B[0;34m\u001B[0m\u001B[0m\n\u001B[1;32m      5\u001B[0m \u001B[0;32mfrom\u001B[0m \u001B[0mmatplotlib\u001B[0m \u001B[0;32mimport\u001B[0m \u001B[0mpyplot\u001B[0m \u001B[0;32mas\u001B[0m \u001B[0mplt\u001B[0m\u001B[0;34m\u001B[0m\u001B[0;34m\u001B[0m\u001B[0m\n",
      "\u001B[0;32m~/.conda/envs/untitled/lib/python3.8/site-packages/pandas/__init__.py\u001B[0m in \u001B[0;36m<module>\u001B[0;34m\u001B[0m\n\u001B[1;32m    177\u001B[0m \u001B[0;34m\u001B[0m\u001B[0m\n\u001B[1;32m    178\u001B[0m \u001B[0;32mfrom\u001B[0m \u001B[0mpandas\u001B[0m\u001B[0;34m.\u001B[0m\u001B[0mutil\u001B[0m\u001B[0;34m.\u001B[0m\u001B[0m_tester\u001B[0m \u001B[0;32mimport\u001B[0m \u001B[0mtest\u001B[0m\u001B[0;34m\u001B[0m\u001B[0;34m\u001B[0m\u001B[0m\n\u001B[0;32m--> 179\u001B[0;31m \u001B[0;32mimport\u001B[0m \u001B[0mpandas\u001B[0m\u001B[0;34m.\u001B[0m\u001B[0mtesting\u001B[0m\u001B[0;34m\u001B[0m\u001B[0;34m\u001B[0m\u001B[0m\n\u001B[0m\u001B[1;32m    180\u001B[0m \u001B[0;32mimport\u001B[0m \u001B[0mpandas\u001B[0m\u001B[0;34m.\u001B[0m\u001B[0marrays\u001B[0m\u001B[0;34m\u001B[0m\u001B[0;34m\u001B[0m\u001B[0m\n\u001B[1;32m    181\u001B[0m \u001B[0;34m\u001B[0m\u001B[0m\n",
      "\u001B[0;32m~/.conda/envs/untitled/lib/python3.8/site-packages/pandas/testing.py\u001B[0m in \u001B[0;36m<module>\u001B[0;34m\u001B[0m\n\u001B[1;32m      4\u001B[0m \u001B[0;34m\u001B[0m\u001B[0m\n\u001B[1;32m      5\u001B[0m \u001B[0;34m\u001B[0m\u001B[0m\n\u001B[0;32m----> 6\u001B[0;31m from pandas._testing import (\n\u001B[0m\u001B[1;32m      7\u001B[0m     \u001B[0massert_extension_array_equal\u001B[0m\u001B[0;34m,\u001B[0m\u001B[0;34m\u001B[0m\u001B[0;34m\u001B[0m\u001B[0m\n\u001B[1;32m      8\u001B[0m     \u001B[0massert_frame_equal\u001B[0m\u001B[0;34m,\u001B[0m\u001B[0;34m\u001B[0m\u001B[0;34m\u001B[0m\u001B[0m\n",
      "\u001B[0;32m~/.conda/envs/untitled/lib/python3.8/site-packages/pandas/_testing/__init__.py\u001B[0m in \u001B[0;36m<module>\u001B[0;34m\u001B[0m\n\u001B[1;32m    946\u001B[0m \u001B[0;34m\u001B[0m\u001B[0m\n\u001B[1;32m    947\u001B[0m \u001B[0;34m\u001B[0m\u001B[0m\n\u001B[0;32m--> 948\u001B[0;31m \u001B[0mcython_table\u001B[0m \u001B[0;34m=\u001B[0m \u001B[0mpd\u001B[0m\u001B[0;34m.\u001B[0m\u001B[0mcore\u001B[0m\u001B[0;34m.\u001B[0m\u001B[0mcommon\u001B[0m\u001B[0;34m.\u001B[0m\u001B[0m_cython_table\u001B[0m\u001B[0;34m.\u001B[0m\u001B[0mitems\u001B[0m\u001B[0;34m(\u001B[0m\u001B[0;34m)\u001B[0m\u001B[0;34m\u001B[0m\u001B[0;34m\u001B[0m\u001B[0m\n\u001B[0m\u001B[1;32m    949\u001B[0m \u001B[0;34m\u001B[0m\u001B[0m\n\u001B[1;32m    950\u001B[0m \u001B[0;34m\u001B[0m\u001B[0m\n",
      "\u001B[0;31mAttributeError\u001B[0m: partially initialized module 'pandas' has no attribute 'core' (most likely due to a circular import)"
     ]
    }
   ],
   "source": [
    "# Import packages\n",
    "import numpy as np\n",
    "import pandas as pd\n",
    "import seaborn as sns\n",
    "from matplotlib import pyplot as plt\n",
    "import plotly.express as px\n",
    "%matplotlib inline\n",
    "plt.style.use('seaborn-white')\n",
    "# Import ML packages\n",
    "from sklearn.metrics import mean_squared_error\n",
    "from sklearn.linear_model import LinearRegression\n",
    "from sklearn.preprocessing import PolynomialFeatures\n",
    "from sklearn.model_selection import train_test_split, LeaveOneOut, KFold, cross_val_score\n",
    "from sklearn.linear_model import Ridge, RidgeCV, Lasso, LassoCV\n",
    "#from sklearn.feature_selection import SequentialFeatureSelector\n",
    "from sklearn.neighbors import KNeighborsClassifier\n",
    "from sklearn import metrics\n",
    "from sklearn.metrics import confusion_matrix, ConfusionMatrixDisplay, classification_report\n",
    "from sklearn import preprocessing\n",
    "from sklearn import neighbors\n",
    "from sklearn.metrics import r2_score\n",
    "from sklearn.cluster import KMeans\n",
    "from yellowbrick.cluster import KElbowVisualizer\n",
    "from sklearn.cluster import KMeans\n",
    "from sklearn.preprocessing import StandardScaler\n",
    "from yellowbrick.cluster import InterclusterDistance\n",
    "from yellowbrick.cluster import SilhouetteVisualizer\n",
    "from yellowbrick.datasets import load_nfl\n",
    "from yellowbrick.datasets import load_credit\n",
    "from yellowbrick.datasets import load_hobbies\n",
    "from sklearn.datasets import make_blobs"
   ]
  },
  {
   "cell_type": "code",
   "execution_count": 5,
   "id": "0d3467bc",
   "metadata": {},
   "outputs": [
    {
     "ename": "NameError",
     "evalue": "name 'pd' is not defined",
     "output_type": "error",
     "traceback": [
      "\u001B[0;31m---------------------------------------------------------------------------\u001B[0m",
      "\u001B[0;31mNameError\u001B[0m                                 Traceback (most recent call last)",
      "\u001B[0;32m/var/folders/8h/ysxdy2n52md_q48rldhcg5h00000gn/T/ipykernel_2178/635520429.py\u001B[0m in \u001B[0;36m<module>\u001B[0;34m\u001B[0m\n\u001B[1;32m      1\u001B[0m \u001B[0;31m# Read weather csv file\u001B[0m\u001B[0;34m\u001B[0m\u001B[0;34m\u001B[0m\u001B[0;34m\u001B[0m\u001B[0m\n\u001B[0;32m----> 2\u001B[0;31m \u001B[0mweather\u001B[0m \u001B[0;34m=\u001B[0m \u001B[0mpd\u001B[0m\u001B[0;34m.\u001B[0m\u001B[0mread_csv\u001B[0m\u001B[0;34m(\u001B[0m\u001B[0;34m\"pit_weather.csv\"\u001B[0m\u001B[0;34m)\u001B[0m\u001B[0;34m\u001B[0m\u001B[0;34m\u001B[0m\u001B[0m\n\u001B[0m\u001B[1;32m      3\u001B[0m \u001B[0;31m# Select only 5 columns from the initial dataset\u001B[0m\u001B[0;34m\u001B[0m\u001B[0;34m\u001B[0m\u001B[0;34m\u001B[0m\u001B[0m\n\u001B[1;32m      4\u001B[0m \u001B[0mweather\u001B[0m \u001B[0;34m=\u001B[0m \u001B[0mweather\u001B[0m\u001B[0;34m[\u001B[0m\u001B[0;34m[\u001B[0m\u001B[0;34m'DATE'\u001B[0m\u001B[0;34m,\u001B[0m \u001B[0;34m'AWND'\u001B[0m\u001B[0;34m,\u001B[0m \u001B[0;34m'PRCP'\u001B[0m\u001B[0;34m,\u001B[0m \u001B[0;34m'TMAX'\u001B[0m\u001B[0;34m,\u001B[0m \u001B[0;34m'TMIN'\u001B[0m\u001B[0;34m]\u001B[0m\u001B[0;34m]\u001B[0m\u001B[0;34m\u001B[0m\u001B[0;34m\u001B[0m\u001B[0m\n\u001B[1;32m      5\u001B[0m \u001B[0;31m# Calculate the average temperature of the day\u001B[0m\u001B[0;34m\u001B[0m\u001B[0;34m\u001B[0m\u001B[0;34m\u001B[0m\u001B[0m\n",
      "\u001B[0;31mNameError\u001B[0m: name 'pd' is not defined"
     ]
    }
   ],
   "source": [
    "# Read weather csv file\n",
    "weather = pd.read_csv(\"pit_weather.csv\")\n",
    "# Select only 5 columns from the initial dataset\n",
    "weather = weather[['DATE', 'AWND', 'PRCP', 'TMAX', 'TMIN']]\n",
    "# Calculate the average temperature of the day\n",
    "weather['TAVG'] = weather[['TMAX', 'TMIN']].mean(axis=1)\n",
    "# Show if there are any missing values\n",
    "weather.info()\n",
    "# However, we will not drop the NaN values now for the convenience of merging dataset\n",
    "weather.isnull().sum(axis=0)\n",
    "# Print the first 5 rows of the dataset\n",
    "weather.head(5)"
   ]
  },
  {
   "cell_type": "code",
   "execution_count": null,
   "id": "244ac53a",
   "metadata": {},
   "outputs": [],
   "source": [
    "ride = pd.DataFrame(data = None)\n",
    "for i in range(7,10):\n",
    "    for j in range(1,5):\n",
    "        ride_1 = pd.read_csv(\"healthy-ride-rentals-201{}-q{}.csv\".format(i, j))\n",
    "        # drop the lines with NA\n",
    "        ride_1 = ride_1.dropna(axis=0)\n",
    "        # copy the column with date\n",
    "        ride_1[\"tmp\"] = ride_1[\"Starttime\"]\n",
    "        # starttime and stoptime delete the date\n",
    "        ride_1[\"Starttime\"] = ride_1[\"Starttime\"].apply(lambda x: str(x).split(\" \")[1])\n",
    "        # convert starttime to minutes\n",
    "        ride_1[\"Starttime\"] = ride_1[\"Starttime\"].apply(lambda x: int(str(x).split(\":\")[0]) * 60 + int(str(x).split(\":\")[1]))\n",
    "        ride_1[\"Stoptime\"] = ride_1[\"Stoptime\"].apply(lambda x: str(x).split(\" \")[1])\n",
    "        # convert stoptime to minutes\n",
    "        ride_1[\"Stoptime\"] = ride_1[\"Stoptime\"].apply(lambda x: int(str(x).split(\":\")[0]) * 60 + int(str(x).split(\":\")[1]))\n",
    "        # extract date to a new column and then merge with weather dataset\n",
    "        ride_1[\"DATE\"] = ride_1[\"tmp\"].apply(lambda x: str(str(x).split(\"/\")[2]).split(\" \")[0] + \"-\" + str(x).split(\"/\")[0]+ \"-\"  + str(x).split(\"/\")[1])\n",
    "        # adjust the format\n",
    "        ride_1[\"DATE\"] = pd.to_datetime(ride_1[\"DATE\"]).apply(lambda x: str(x).split(\" \")[0])\n",
    "        # delete the temp column\n",
    "        del ride_1[\"tmp\"]\n",
    "\n",
    "        # add each subdataset\n",
    "        ride = pd.concat([ride, ride_1])\n",
    "ride"
   ]
  },
  {
   "cell_type": "code",
   "execution_count": null,
   "id": "604347d3",
   "metadata": {},
   "outputs": [],
   "source": [
    "# Merge ride dataframe with weather dataframe based on DATE\n",
    "df_merged = pd.merge(ride, weather, on='DATE')\n",
    "df_merged.info()\n",
    "# Show how many rows have empty values\n",
    "df_merged.isnull().sum(axis=0)\n",
    "# Drop rows which contain NaN values\n",
    "df_merged = df_merged.dropna()\n",
    "# Drop not useful columns\n",
    "df_merged = df_merged.drop(['Trip id', 'Bikeid','From station name', 'To station name'], axis=1)\n",
    "# Convert Usertype from categorical to dummy variable 0(customer) and 1(subscriber)\n",
    "df_merged['Usertype'] = df_merged['Usertype'].astype('category').cat.codes\n",
    "# Show top 5 rows of the dataset\n",
    "df_merged"
   ]
  },
  {
   "cell_type": "code",
   "execution_count": null,
   "id": "1154b092",
   "metadata": {},
   "outputs": [],
   "source": [
    "del df_merged[\"DATE\"]"
   ]
  },
  {
   "cell_type": "code",
   "execution_count": null,
   "id": "7c62327e",
   "metadata": {},
   "outputs": [],
   "source": [
    "fig, ax = plt.subplots()\n",
    "fig.set_size_inches(12, 8)\n",
    "sns.scatterplot(x='Tripduration',y='TAVG',data=df_merged, ax=ax);\n",
    "ax.axes.xaxis.set_ticks([])\n",
    "ax.axes.yaxis.set_ticks([])\n",
    "plt.show();"
   ]
  },
  {
   "cell_type": "code",
   "execution_count": null,
   "id": "79b58074",
   "metadata": {},
   "outputs": [],
   "source": [
    "# create a KMeans object\n",
    "model = KMeans(random_state=1)\n",
    "# fit with data\n",
    "model.fit(df_merged)\n",
    "\n",
    "#run from k=2 to k=10\n",
    "visualizer = KElbowVisualizer(model, k=(2,10), timings = False)\n",
    "visualizer.fit(df_merged)\n",
    "visualizer.show(); "
   ]
  },
  {
   "cell_type": "code",
   "execution_count": null,
   "id": "64b4b0f2",
   "metadata": {},
   "outputs": [],
   "source": [
    "colors = np.array([\"red\",\"green\",\"blue\",\"pink\",\"orange\",\"magenta\",\"purple\",\"cyan\"])\n",
    "# get the tuned model\n",
    "model_tuned = KMeans(random_state=1, n_clusters=6).fit(df_merged)\n",
    "\n",
    "fig, ax = plt.subplots()\n",
    "fig.set_size_inches(12, 8)\n",
    "sns.scatterplot(x='Tripduration',y='TAVG',data=df_merged, ax=ax, c=colors[model_tuned.labels_]);\n",
    "ax.axes.xaxis.set_ticks([])\n",
    "ax.axes.yaxis.set_ticks([])\n",
    "plt.show();"
   ]
  },
  {
   "cell_type": "code",
   "execution_count": 3,
   "id": "2654f2bf",
   "metadata": {},
   "outputs": [],
   "source": []
  }
 ],
 "metadata": {
  "kernelspec": {
   "display_name": "Python 3",
   "language": "python",
   "name": "python3"
  },
  "language_info": {
   "codemirror_mode": {
    "name": "ipython",
    "version": 3
   },
   "file_extension": ".py",
   "mimetype": "text/x-python",
   "name": "python",
   "nbconvert_exporter": "python",
   "pygments_lexer": "ipython3",
   "version": "3.8.8"
  }
 },
 "nbformat": 4,
 "nbformat_minor": 5
}