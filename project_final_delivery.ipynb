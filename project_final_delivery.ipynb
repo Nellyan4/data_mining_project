{
 "cells": [
  {
   "cell_type": "markdown",
   "metadata": {
    "collapsed": true,
    "pycharm": {
     "name": "#%% md\n"
    }
   },
   "source": [
    "# Analysis and operation suggestions for HealthyRide\n",
    "### Group member: Elaine Zhang, Xintong Zheng, Xi Yan"
   ]
  },
  {
   "cell_type": "code",
   "execution_count": 2,
   "outputs": [],
   "source": [
    "# Import packages\n",
    "import numpy as np\n",
    "import pandas as pd\n",
    "import seaborn as sns\n",
    "from matplotlib import pyplot as plt\n",
    "import plotly.express as px\n",
    "%matplotlib inline\n",
    "plt.style.use('seaborn-white')\n",
    "# Import ML packages\n",
    "from sklearn.metrics import mean_squared_error\n",
    "from sklearn.linear_model import LinearRegression\n",
    "from sklearn.preprocessing import PolynomialFeatures\n",
    "from sklearn.model_selection import train_test_split, LeaveOneOut, KFold, cross_val_score\n",
    "from sklearn.linear_model import Ridge, RidgeCV, Lasso, LassoCV\n",
    "#from sklearn.feature_selection import SequentialFeatureSelector\n",
    "from sklearn.neighbors import KNeighborsClassifier\n",
    "from sklearn import metrics\n",
    "from sklearn.metrics import confusion_matrix, ConfusionMatrixDisplay, classification_report\n",
    "from sklearn import preprocessing\n",
    "from sklearn import neighbors\n",
    "from sklearn.metrics import r2_score\n",
    "from sklearn.cluster import KMeans\n",
    "from yellowbrick.cluster import KElbowVisualizer\n",
    "from sklearn.cluster import KMeans\n",
    "from sklearn.preprocessing import StandardScaler\n",
    "from yellowbrick.cluster import InterclusterDistance\n",
    "from yellowbrick.cluster import SilhouetteVisualizer\n",
    "from sklearn.cluster import AgglomerativeClustering\n",
    "from yellowbrick.datasets import load_nfl\n",
    "from yellowbrick.datasets import load_credit\n",
    "from yellowbrick.datasets import load_hobbies\n",
    "from sklearn.datasets import make_blobs"
   ],
   "metadata": {
    "collapsed": false,
    "pycharm": {
     "name": "#%%\n"
    }
   }
  },
  {
   "cell_type": "markdown",
   "source": [
    "# Implementation -- Data processing"
   ],
   "metadata": {
    "collapsed": false,
    "pycharm": {
     "name": "#%% md\n"
    }
   }
  },
  {
   "cell_type": "markdown",
   "source": [
    "### Read and clean weather data\n",
    "The weather data is retrieved from [National Centers for Environmental Information](https://www.ncdc.noaa.gov/cdo-web/search), ranged from Jan.1 2017 to Dec.31 2019, of a weather station located at Pittsburgh, PA, USA."
   ],
   "metadata": {
    "collapsed": false,
    "pycharm": {
     "name": "#%% md\n"
    }
   }
  },
  {
   "cell_type": "code",
   "execution_count": 3,
   "outputs": [
    {
     "name": "stdout",
     "output_type": "stream",
     "text": [
      "<class 'pandas.core.frame.DataFrame'>\n",
      "RangeIndex: 1095 entries, 0 to 1094\n",
      "Data columns (total 6 columns):\n",
      " #   Column  Non-Null Count  Dtype  \n",
      "---  ------  --------------  -----  \n",
      " 0   DATE    1095 non-null   object \n",
      " 1   AWND    1092 non-null   float64\n",
      " 2   PRCP    1094 non-null   float64\n",
      " 3   TMAX    1093 non-null   float64\n",
      " 4   TMIN    1093 non-null   float64\n",
      " 5   TAVG    1093 non-null   float64\n",
      "dtypes: float64(5), object(1)\n",
      "memory usage: 51.5+ KB\n"
     ]
    },
    {
     "data": {
      "text/plain": "         DATE   AWND  PRCP  TMAX  TMIN  TAVG\n0  2017-01-01   5.82  0.03  44.0  32.0  38.0\n1  2017-01-02   7.16  0.09  46.0  36.0  41.0\n2  2017-01-03   6.93  0.76  50.0  42.0  46.0\n3  2017-01-04  15.66  0.04  45.0  21.0  33.0\n4  2017-01-05   8.72  0.06  23.0  18.0  20.5",
      "text/html": "<div>\n<style scoped>\n    .dataframe tbody tr th:only-of-type {\n        vertical-align: middle;\n    }\n\n    .dataframe tbody tr th {\n        vertical-align: top;\n    }\n\n    .dataframe thead th {\n        text-align: right;\n    }\n</style>\n<table border=\"1\" class=\"dataframe\">\n  <thead>\n    <tr style=\"text-align: right;\">\n      <th></th>\n      <th>DATE</th>\n      <th>AWND</th>\n      <th>PRCP</th>\n      <th>TMAX</th>\n      <th>TMIN</th>\n      <th>TAVG</th>\n    </tr>\n  </thead>\n  <tbody>\n    <tr>\n      <th>0</th>\n      <td>2017-01-01</td>\n      <td>5.82</td>\n      <td>0.03</td>\n      <td>44.0</td>\n      <td>32.0</td>\n      <td>38.0</td>\n    </tr>\n    <tr>\n      <th>1</th>\n      <td>2017-01-02</td>\n      <td>7.16</td>\n      <td>0.09</td>\n      <td>46.0</td>\n      <td>36.0</td>\n      <td>41.0</td>\n    </tr>\n    <tr>\n      <th>2</th>\n      <td>2017-01-03</td>\n      <td>6.93</td>\n      <td>0.76</td>\n      <td>50.0</td>\n      <td>42.0</td>\n      <td>46.0</td>\n    </tr>\n    <tr>\n      <th>3</th>\n      <td>2017-01-04</td>\n      <td>15.66</td>\n      <td>0.04</td>\n      <td>45.0</td>\n      <td>21.0</td>\n      <td>33.0</td>\n    </tr>\n    <tr>\n      <th>4</th>\n      <td>2017-01-05</td>\n      <td>8.72</td>\n      <td>0.06</td>\n      <td>23.0</td>\n      <td>18.0</td>\n      <td>20.5</td>\n    </tr>\n  </tbody>\n</table>\n</div>"
     },
     "execution_count": 3,
     "metadata": {},
     "output_type": "execute_result"
    }
   ],
   "source": [
    "# Read weather csv file\n",
    "weather = pd.read_csv(\"pit_weather.csv\")\n",
    "# Select only 5 columns from the initial dataset\n",
    "weather = weather[['DATE', 'AWND', 'PRCP', 'TMAX', 'TMIN']]\n",
    "# Calculate the average temperature of the day\n",
    "weather['TAVG'] = weather[['TMAX', 'TMIN']].mean(axis=1)\n",
    "# Show if there are any missing values\n",
    "weather.info()\n",
    "# However, we will not drop the NaN values now for the convenience of merging dataset\n",
    "weather.isnull().sum(axis=0)\n",
    "# Print the first 5 rows of the dataset\n",
    "weather.head(5)"
   ],
   "metadata": {
    "collapsed": false,
    "pycharm": {
     "name": "#%%\n"
    }
   }
  },
  {
   "cell_type": "markdown",
   "source": [
    "### Read and clean ride rentals data\n",
    "The ride rental data is retrieved from [Western Pennsylvania Regional Data Center](https://data.wprdc.org/dataset/healthyride-trip-data), since we are using 2017-2019 data, and the data is a .csv file quarterly. We have to combine 12 .csv data first in order to finish the cleaning."
   ],
   "metadata": {
    "collapsed": false
   }
  },
  {
   "cell_type": "code",
   "execution_count": 4,
   "outputs": [
    {
     "name": "stderr",
     "output_type": "stream",
     "text": [
      "/Users/nellyan45/.conda/envs/untitled/lib/python3.8/site-packages/IPython/core/interactiveshell.py:3444: DtypeWarning: Columns (1,2,6,8,9) have mixed types.Specify dtype option on import or set low_memory=False.\n",
      "  exec(code_obj, self.user_global_ns, self.user_ns)\n"
     ]
    },
    {
     "data": {
      "text/plain": "      Trip id  Starttime  Stoptime   Bikeid  Tripduration  From station id  \\\n0  25723960.0        508       510  70478.0         110.0           1043.0   \n1  25724207.0        593       600  70439.0         426.0           1014.0   \n2  25724297.0        621       646  70440.0        1498.0           1019.0   \n3  25724391.0        663       690  70002.0        1581.0           1019.0   \n4  25724479.0        703       729  70024.0        1563.0           1018.0   \n\n                From station name  To station id  \\\n0     S Millvale Ave & Centre Ave         1044.0   \n1  Ridge Ave & Brighton Rd (CCAC)         1012.0   \n2             42nd St & Butler St         1012.0   \n3             42nd St & Butler St         1013.0   \n4         Butler St & Stanton Ave         1013.0   \n\n                            To station name    Usertype        DATE  \n0                   Zulema St & Coltart Ave  Subscriber  2017-01-01  \n1  North Shore Trail & Fort Duquesne Bridge    Customer  2017-01-01  \n2  North Shore Trail & Fort Duquesne Bridge  Subscriber  2017-01-01  \n3       Isabella St & Federal St (PNC Park)    Customer  2017-01-01  \n4       Isabella St & Federal St (PNC Park)    Customer  2017-01-01  ",
      "text/html": "<div>\n<style scoped>\n    .dataframe tbody tr th:only-of-type {\n        vertical-align: middle;\n    }\n\n    .dataframe tbody tr th {\n        vertical-align: top;\n    }\n\n    .dataframe thead th {\n        text-align: right;\n    }\n</style>\n<table border=\"1\" class=\"dataframe\">\n  <thead>\n    <tr style=\"text-align: right;\">\n      <th></th>\n      <th>Trip id</th>\n      <th>Starttime</th>\n      <th>Stoptime</th>\n      <th>Bikeid</th>\n      <th>Tripduration</th>\n      <th>From station id</th>\n      <th>From station name</th>\n      <th>To station id</th>\n      <th>To station name</th>\n      <th>Usertype</th>\n      <th>DATE</th>\n    </tr>\n  </thead>\n  <tbody>\n    <tr>\n      <th>0</th>\n      <td>25723960.0</td>\n      <td>508</td>\n      <td>510</td>\n      <td>70478.0</td>\n      <td>110.0</td>\n      <td>1043.0</td>\n      <td>S Millvale Ave &amp; Centre Ave</td>\n      <td>1044.0</td>\n      <td>Zulema St &amp; Coltart Ave</td>\n      <td>Subscriber</td>\n      <td>2017-01-01</td>\n    </tr>\n    <tr>\n      <th>1</th>\n      <td>25724207.0</td>\n      <td>593</td>\n      <td>600</td>\n      <td>70439.0</td>\n      <td>426.0</td>\n      <td>1014.0</td>\n      <td>Ridge Ave &amp; Brighton Rd (CCAC)</td>\n      <td>1012.0</td>\n      <td>North Shore Trail &amp; Fort Duquesne Bridge</td>\n      <td>Customer</td>\n      <td>2017-01-01</td>\n    </tr>\n    <tr>\n      <th>2</th>\n      <td>25724297.0</td>\n      <td>621</td>\n      <td>646</td>\n      <td>70440.0</td>\n      <td>1498.0</td>\n      <td>1019.0</td>\n      <td>42nd St &amp; Butler St</td>\n      <td>1012.0</td>\n      <td>North Shore Trail &amp; Fort Duquesne Bridge</td>\n      <td>Subscriber</td>\n      <td>2017-01-01</td>\n    </tr>\n    <tr>\n      <th>3</th>\n      <td>25724391.0</td>\n      <td>663</td>\n      <td>690</td>\n      <td>70002.0</td>\n      <td>1581.0</td>\n      <td>1019.0</td>\n      <td>42nd St &amp; Butler St</td>\n      <td>1013.0</td>\n      <td>Isabella St &amp; Federal St (PNC Park)</td>\n      <td>Customer</td>\n      <td>2017-01-01</td>\n    </tr>\n    <tr>\n      <th>4</th>\n      <td>25724479.0</td>\n      <td>703</td>\n      <td>729</td>\n      <td>70024.0</td>\n      <td>1563.0</td>\n      <td>1018.0</td>\n      <td>Butler St &amp; Stanton Ave</td>\n      <td>1013.0</td>\n      <td>Isabella St &amp; Federal St (PNC Park)</td>\n      <td>Customer</td>\n      <td>2017-01-01</td>\n    </tr>\n  </tbody>\n</table>\n</div>"
     },
     "execution_count": 4,
     "metadata": {},
     "output_type": "execute_result"
    }
   ],
   "source": [
    "ride = pd.DataFrame(data = None)\n",
    "for i in range(7,10):\n",
    "    for j in range(1,5):\n",
    "        ride_1 = pd.read_csv(\"healthy-ride-rentals-201{}-q{}.csv\".format(i, j))\n",
    "        # drop the lines with NA\n",
    "        ride_1 = ride_1.dropna(axis=0)\n",
    "        # copy the column with date\n",
    "        ride_1[\"tmp\"] = ride_1[\"Starttime\"]\n",
    "        # starttime and stoptime delete the date\n",
    "        ride_1[\"Starttime\"] = ride_1[\"Starttime\"].apply(lambda x: str(x).split(\" \")[1])\n",
    "        # convert starttime to minutes\n",
    "        ride_1[\"Starttime\"] = ride_1[\"Starttime\"].apply(lambda x: int(str(x).split(\":\")[0]) * 60 + int(str(x).split(\":\")[1]))\n",
    "        ride_1[\"Stoptime\"] = ride_1[\"Stoptime\"].apply(lambda x: str(x).split(\" \")[1])\n",
    "        # convert stoptime to minutes\n",
    "        ride_1[\"Stoptime\"] = ride_1[\"Stoptime\"].apply(lambda x: int(str(x).split(\":\")[0]) * 60 + int(str(x).split(\":\")[1]))\n",
    "        # extract date to a new column and then merge with weather dataset\n",
    "        ride_1[\"DATE\"] = ride_1[\"tmp\"].apply(lambda x: str(str(x).split(\"/\")[2]).split(\" \")[0] + \"-\" + str(x).split(\"/\")[0]+ \"-\"  + str(x).split(\"/\")[1])\n",
    "        # adjust the format\n",
    "        ride_1[\"DATE\"] = pd.to_datetime(ride_1[\"DATE\"]).apply(lambda x: str(x).split(\" \")[0])\n",
    "        # delete the temp column\n",
    "        del ride_1[\"tmp\"]\n",
    "\n",
    "        # add each subdataset\n",
    "        ride = pd.concat([ride, ride_1])\n",
    "ride.head(5)"
   ],
   "metadata": {
    "collapsed": false,
    "pycharm": {
     "name": "#%%\n"
    }
   }
  },
  {
   "cell_type": "markdown",
   "source": [
    "### Merge ride dataframe with weather dataframe based on DATE"
   ],
   "metadata": {
    "collapsed": false
   }
  },
  {
   "cell_type": "code",
   "execution_count": 5,
   "outputs": [
    {
     "name": "stdout",
     "output_type": "stream",
     "text": [
      "<class 'pandas.core.frame.DataFrame'>\n",
      "Int64Index: 227290 entries, 0 to 227289\n",
      "Data columns (total 16 columns):\n",
      " #   Column             Non-Null Count   Dtype  \n",
      "---  ------             --------------   -----  \n",
      " 0   Trip id            227290 non-null  float64\n",
      " 1   Starttime          227290 non-null  int64  \n",
      " 2   Stoptime           227290 non-null  int64  \n",
      " 3   Bikeid             227290 non-null  float64\n",
      " 4   Tripduration       227290 non-null  float64\n",
      " 5   From station id    227290 non-null  float64\n",
      " 6   From station name  227290 non-null  object \n",
      " 7   To station id      227290 non-null  float64\n",
      " 8   To station name    227290 non-null  object \n",
      " 9   Usertype           227290 non-null  object \n",
      " 10  DATE               227290 non-null  object \n",
      " 11  AWND               227006 non-null  float64\n",
      " 12  PRCP               226736 non-null  float64\n",
      " 13  TMAX               227215 non-null  float64\n",
      " 14  TMIN               227215 non-null  float64\n",
      " 15  TAVG               227215 non-null  float64\n",
      "dtypes: float64(10), int64(2), object(4)\n",
      "memory usage: 29.5+ MB\n"
     ]
    },
    {
     "data": {
      "text/plain": "   Starttime  Stoptime  Tripduration  From station id  To station id  \\\n0        508       510         110.0           1043.0         1044.0   \n1        593       600         426.0           1014.0         1012.0   \n2        621       646        1498.0           1019.0         1012.0   \n3        663       690        1581.0           1019.0         1013.0   \n4        703       729        1563.0           1018.0         1013.0   \n\n   Usertype        DATE  AWND  PRCP  TMAX  TMIN  TAVG  \n0         1  2017-01-01  5.82  0.03  44.0  32.0  38.0  \n1         0  2017-01-01  5.82  0.03  44.0  32.0  38.0  \n2         1  2017-01-01  5.82  0.03  44.0  32.0  38.0  \n3         0  2017-01-01  5.82  0.03  44.0  32.0  38.0  \n4         0  2017-01-01  5.82  0.03  44.0  32.0  38.0  ",
      "text/html": "<div>\n<style scoped>\n    .dataframe tbody tr th:only-of-type {\n        vertical-align: middle;\n    }\n\n    .dataframe tbody tr th {\n        vertical-align: top;\n    }\n\n    .dataframe thead th {\n        text-align: right;\n    }\n</style>\n<table border=\"1\" class=\"dataframe\">\n  <thead>\n    <tr style=\"text-align: right;\">\n      <th></th>\n      <th>Starttime</th>\n      <th>Stoptime</th>\n      <th>Tripduration</th>\n      <th>From station id</th>\n      <th>To station id</th>\n      <th>Usertype</th>\n      <th>DATE</th>\n      <th>AWND</th>\n      <th>PRCP</th>\n      <th>TMAX</th>\n      <th>TMIN</th>\n      <th>TAVG</th>\n    </tr>\n  </thead>\n  <tbody>\n    <tr>\n      <th>0</th>\n      <td>508</td>\n      <td>510</td>\n      <td>110.0</td>\n      <td>1043.0</td>\n      <td>1044.0</td>\n      <td>1</td>\n      <td>2017-01-01</td>\n      <td>5.82</td>\n      <td>0.03</td>\n      <td>44.0</td>\n      <td>32.0</td>\n      <td>38.0</td>\n    </tr>\n    <tr>\n      <th>1</th>\n      <td>593</td>\n      <td>600</td>\n      <td>426.0</td>\n      <td>1014.0</td>\n      <td>1012.0</td>\n      <td>0</td>\n      <td>2017-01-01</td>\n      <td>5.82</td>\n      <td>0.03</td>\n      <td>44.0</td>\n      <td>32.0</td>\n      <td>38.0</td>\n    </tr>\n    <tr>\n      <th>2</th>\n      <td>621</td>\n      <td>646</td>\n      <td>1498.0</td>\n      <td>1019.0</td>\n      <td>1012.0</td>\n      <td>1</td>\n      <td>2017-01-01</td>\n      <td>5.82</td>\n      <td>0.03</td>\n      <td>44.0</td>\n      <td>32.0</td>\n      <td>38.0</td>\n    </tr>\n    <tr>\n      <th>3</th>\n      <td>663</td>\n      <td>690</td>\n      <td>1581.0</td>\n      <td>1019.0</td>\n      <td>1013.0</td>\n      <td>0</td>\n      <td>2017-01-01</td>\n      <td>5.82</td>\n      <td>0.03</td>\n      <td>44.0</td>\n      <td>32.0</td>\n      <td>38.0</td>\n    </tr>\n    <tr>\n      <th>4</th>\n      <td>703</td>\n      <td>729</td>\n      <td>1563.0</td>\n      <td>1018.0</td>\n      <td>1013.0</td>\n      <td>0</td>\n      <td>2017-01-01</td>\n      <td>5.82</td>\n      <td>0.03</td>\n      <td>44.0</td>\n      <td>32.0</td>\n      <td>38.0</td>\n    </tr>\n  </tbody>\n</table>\n</div>"
     },
     "execution_count": 5,
     "metadata": {},
     "output_type": "execute_result"
    }
   ],
   "source": [
    "df_merged = pd.merge(ride, weather, on='DATE')\n",
    "df_merged.info()\n",
    "# Show how many rows have empty values\n",
    "df_merged.isnull().sum(axis=0)\n",
    "# Drop rows which contain NaN values\n",
    "df_merged = df_merged.dropna()\n",
    "# Drop not useful columns\n",
    "df_merged = df_merged.drop(['Trip id', 'Bikeid','From station name', 'To station name'], axis=1)\n",
    "# Convert Usertype from categorical to dummy variable 0(customer) and 1(subscriber)\n",
    "df_merged['Usertype'] = df_merged['Usertype'].astype('category').cat.codes\n",
    "# Show top 5 rows of the dataset\n",
    "df_merged.head(5)"
   ],
   "metadata": {
    "collapsed": false,
    "pycharm": {
     "name": "#%%\n"
    }
   }
  },
  {
   "cell_type": "code",
   "execution_count": null,
   "outputs": [],
   "source": [],
   "metadata": {
    "collapsed": false,
    "pycharm": {
     "name": "#%%\n"
    }
   }
  }
 ],
 "metadata": {
  "kernelspec": {
   "display_name": "Python 3",
   "language": "python",
   "name": "python3"
  },
  "language_info": {
   "codemirror_mode": {
    "name": "ipython",
    "version": 2
   },
   "file_extension": ".py",
   "mimetype": "text/x-python",
   "name": "python",
   "nbconvert_exporter": "python",
   "pygments_lexer": "ipython2",
   "version": "2.7.6"
  }
 },
 "nbformat": 4,
 "nbformat_minor": 0
}